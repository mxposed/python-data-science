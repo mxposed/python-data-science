{
 "cells": [
  {
   "cell_type": "code",
   "execution_count": 1,
   "id": "6f7339c1-a870-414f-8f32-744a5036e636",
   "metadata": {},
   "outputs": [],
   "source": [
    "import pandas as pd"
   ]
  },
  {
   "cell_type": "code",
   "execution_count": 2,
   "id": "c9d96e00-e7d9-49aa-b09d-d09aef5ce9d0",
   "metadata": {},
   "outputs": [],
   "source": [
    "df = pd.DataFrame([[\"New York\", 100], [\"Chicago\", 50]], columns=[\"city\", \"number\"])"
   ]
  },
  {
   "cell_type": "code",
   "execution_count": 3,
   "id": "986a01d5-7aa7-43a1-a47f-3c870bce967a",
   "metadata": {},
   "outputs": [
    {
     "data": {
      "text/html": [
       "<div>\n",
       "<style scoped>\n",
       "    .dataframe tbody tr th:only-of-type {\n",
       "        vertical-align: middle;\n",
       "    }\n",
       "\n",
       "    .dataframe tbody tr th {\n",
       "        vertical-align: top;\n",
       "    }\n",
       "\n",
       "    .dataframe thead th {\n",
       "        text-align: right;\n",
       "    }\n",
       "</style>\n",
       "<table border=\"1\" class=\"dataframe\">\n",
       "  <thead>\n",
       "    <tr style=\"text-align: right;\">\n",
       "      <th></th>\n",
       "      <th>city</th>\n",
       "      <th>number</th>\n",
       "    </tr>\n",
       "  </thead>\n",
       "  <tbody>\n",
       "    <tr>\n",
       "      <th>0</th>\n",
       "      <td>New York</td>\n",
       "      <td>100</td>\n",
       "    </tr>\n",
       "    <tr>\n",
       "      <th>1</th>\n",
       "      <td>Chicago</td>\n",
       "      <td>50</td>\n",
       "    </tr>\n",
       "  </tbody>\n",
       "</table>\n",
       "</div>"
      ],
      "text/plain": [
       "       city  number\n",
       "0  New York     100\n",
       "1   Chicago      50"
      ]
     },
     "execution_count": 3,
     "metadata": {},
     "output_type": "execute_result"
    }
   ],
   "source": [
    "df"
   ]
  },
  {
   "cell_type": "markdown",
   "id": "e63679b7-a475-4f40-b758-2be14e3d2df9",
   "metadata": {},
   "source": [
    "# 1. Statements aka sentence types"
   ]
  },
  {
   "cell_type": "markdown",
   "id": "0597a10a-60a9-4996-8c98-a11dcbcf43c2",
   "metadata": {},
   "source": [
    "## 1.1 Expressions"
   ]
  },
  {
   "cell_type": "code",
   "execution_count": 4,
   "id": "cb0f1d54-68c6-48d5-b8cc-01e80bdefba9",
   "metadata": {},
   "outputs": [
    {
     "data": {
      "text/plain": [
       "6"
      ]
     },
     "execution_count": 4,
     "metadata": {},
     "output_type": "execute_result"
    }
   ],
   "source": [
    "1 + 5"
   ]
  },
  {
   "cell_type": "code",
   "execution_count": 5,
   "id": "6e461be1-b28f-429c-bc53-9a24a9315f98",
   "metadata": {},
   "outputs": [
    {
     "data": {
      "text/html": [
       "<div>\n",
       "<style scoped>\n",
       "    .dataframe tbody tr th:only-of-type {\n",
       "        vertical-align: middle;\n",
       "    }\n",
       "\n",
       "    .dataframe tbody tr th {\n",
       "        vertical-align: top;\n",
       "    }\n",
       "\n",
       "    .dataframe thead th {\n",
       "        text-align: right;\n",
       "    }\n",
       "</style>\n",
       "<table border=\"1\" class=\"dataframe\">\n",
       "  <thead>\n",
       "    <tr style=\"text-align: right;\">\n",
       "      <th></th>\n",
       "      <th>city</th>\n",
       "      <th>number</th>\n",
       "    </tr>\n",
       "  </thead>\n",
       "  <tbody>\n",
       "    <tr>\n",
       "      <th>0</th>\n",
       "      <td>New York</td>\n",
       "      <td>100</td>\n",
       "    </tr>\n",
       "    <tr>\n",
       "      <th>1</th>\n",
       "      <td>Chicago</td>\n",
       "      <td>50</td>\n",
       "    </tr>\n",
       "  </tbody>\n",
       "</table>\n",
       "</div>"
      ],
      "text/plain": [
       "       city  number\n",
       "0  New York     100\n",
       "1   Chicago      50"
      ]
     },
     "execution_count": 5,
     "metadata": {},
     "output_type": "execute_result"
    }
   ],
   "source": [
    "df"
   ]
  },
  {
   "cell_type": "code",
   "execution_count": 6,
   "id": "f204d9ec-8f7d-4bad-ba4a-09eddb068f2d",
   "metadata": {},
   "outputs": [
    {
     "name": "stdout",
     "output_type": "stream",
     "text": [
      "You're great!\n"
     ]
    }
   ],
   "source": [
    "print(\"You're great!\")"
   ]
  },
  {
   "cell_type": "markdown",
   "id": "9f4e93d6-4d0f-42d3-a253-3a0be1ca556f",
   "metadata": {},
   "source": [
    "### They can be put in parenthesis for grouping"
   ]
  },
  {
   "cell_type": "code",
   "execution_count": 8,
   "id": "ad05e73a-77e9-4265-bff0-be9e9b25f163",
   "metadata": {},
   "outputs": [
    {
     "data": {
      "text/plain": [
       "12"
      ]
     },
     "execution_count": 8,
     "metadata": {},
     "output_type": "execute_result"
    }
   ],
   "source": [
    "(1 + 5) * 2"
   ]
  },
  {
   "cell_type": "code",
   "execution_count": 9,
   "id": "292c9c83-0bf0-4c84-9788-a7db8d650555",
   "metadata": {},
   "outputs": [
    {
     "data": {
      "text/html": [
       "<div>\n",
       "<style scoped>\n",
       "    .dataframe tbody tr th:only-of-type {\n",
       "        vertical-align: middle;\n",
       "    }\n",
       "\n",
       "    .dataframe tbody tr th {\n",
       "        vertical-align: top;\n",
       "    }\n",
       "\n",
       "    .dataframe thead th {\n",
       "        text-align: right;\n",
       "    }\n",
       "</style>\n",
       "<table border=\"1\" class=\"dataframe\">\n",
       "  <thead>\n",
       "    <tr style=\"text-align: right;\">\n",
       "      <th></th>\n",
       "      <th>city</th>\n",
       "      <th>number</th>\n",
       "    </tr>\n",
       "  </thead>\n",
       "  <tbody>\n",
       "    <tr>\n",
       "      <th>0</th>\n",
       "      <td>New York</td>\n",
       "      <td>100</td>\n",
       "    </tr>\n",
       "    <tr>\n",
       "      <th>1</th>\n",
       "      <td>Chicago</td>\n",
       "      <td>50</td>\n",
       "    </tr>\n",
       "  </tbody>\n",
       "</table>\n",
       "</div>"
      ],
      "text/plain": [
       "       city  number\n",
       "0  New York     100\n",
       "1   Chicago      50"
      ]
     },
     "execution_count": 9,
     "metadata": {},
     "output_type": "execute_result"
    }
   ],
   "source": [
    "(df)"
   ]
  },
  {
   "cell_type": "code",
   "execution_count": 11,
   "id": "5646d619-377b-4caa-96d5-343d271327b3",
   "metadata": {},
   "outputs": [
    {
     "name": "stdout",
     "output_type": "stream",
     "text": [
      "You're great!\n"
     ]
    },
    {
     "data": {
      "text/html": [
       "<div>\n",
       "<style scoped>\n",
       "    .dataframe tbody tr th:only-of-type {\n",
       "        vertical-align: middle;\n",
       "    }\n",
       "\n",
       "    .dataframe tbody tr th {\n",
       "        vertical-align: top;\n",
       "    }\n",
       "\n",
       "    .dataframe thead th {\n",
       "        text-align: right;\n",
       "    }\n",
       "</style>\n",
       "<table border=\"1\" class=\"dataframe\">\n",
       "  <thead>\n",
       "    <tr style=\"text-align: right;\">\n",
       "      <th></th>\n",
       "      <th>city</th>\n",
       "      <th>number</th>\n",
       "    </tr>\n",
       "  </thead>\n",
       "  <tbody>\n",
       "    <tr>\n",
       "      <th>0</th>\n",
       "      <td>New York</td>\n",
       "      <td>100</td>\n",
       "    </tr>\n",
       "    <tr>\n",
       "      <th>1</th>\n",
       "      <td>Chicago</td>\n",
       "      <td>50</td>\n",
       "    </tr>\n",
       "  </tbody>\n",
       "</table>\n",
       "</div>"
      ],
      "text/plain": [
       "       city  number\n",
       "0  New York     100\n",
       "1   Chicago      50"
      ]
     },
     "execution_count": 11,
     "metadata": {},
     "output_type": "execute_result"
    }
   ],
   "source": [
    "(print(\"You're great!\") or df)"
   ]
  },
  {
   "cell_type": "markdown",
   "id": "a4222f94-8d58-47a9-8588-aea1e0b99525",
   "metadata": {},
   "source": [
    "### Inside parenthesis expression can continue on next lines"
   ]
  },
  {
   "cell_type": "code",
   "execution_count": 12,
   "id": "77d02338-3d35-4449-b561-0924e8f9aecb",
   "metadata": {},
   "outputs": [
    {
     "name": "stdout",
     "output_type": "stream",
     "text": [
      "Long expression\n",
      "is easier to write\n",
      "on multiple lines\n"
     ]
    },
    {
     "data": {
      "text/plain": [
       "(None, None, None, 150)"
      ]
     },
     "execution_count": 12,
     "metadata": {},
     "output_type": "execute_result"
    }
   ],
   "source": [
    "(\n",
    "    print(\"Long expression\"),\n",
    "    print(\"is easier to write\"),\n",
    "    print(\"on multiple lines\"),\n",
    "    100 + 50\n",
    ")"
   ]
  },
  {
   "cell_type": "markdown",
   "id": "d68fa57b-8f27-4a71-97f3-51ae85242e20",
   "metadata": {},
   "source": [
    "## 1.2 Assignment"
   ]
  },
  {
   "cell_type": "markdown",
   "id": "4c2734ed-120c-472f-83d9-cf8fe0136d2e",
   "metadata": {},
   "source": [
    "It is a separate statement, cannot be part of the expression\n",
    "\n",
    "**Uses one `=` character**"
   ]
  },
  {
   "cell_type": "code",
   "execution_count": 35,
   "id": "10d61ee2-75f9-4130-9b68-2a0493e5a1cb",
   "metadata": {},
   "outputs": [],
   "source": [
    "a = 10"
   ]
  },
  {
   "cell_type": "code",
   "execution_count": 36,
   "id": "87010b94-bce2-40bd-b8b6-d205b75c199e",
   "metadata": {},
   "outputs": [],
   "source": [
    "a, b = 10, 20"
   ]
  },
  {
   "cell_type": "code",
   "execution_count": 37,
   "id": "ea840293-54b8-416e-ad4e-4fcb5bbc935e",
   "metadata": {},
   "outputs": [],
   "source": [
    "a, b = \"Hey boss\".split()"
   ]
  },
  {
   "cell_type": "markdown",
   "id": "13bee1f6-4999-4cad-8133-f606caa5f408",
   "metadata": {},
   "source": [
    "## 1.3 Conditional"
   ]
  },
  {
   "cell_type": "code",
   "execution_count": 7,
   "id": "607b05ff-b765-482b-8c3a-163a8133dd85",
   "metadata": {},
   "outputs": [
    {
     "name": "stdout",
     "output_type": "stream",
     "text": [
      "Not so long dataframe\n"
     ]
    }
   ],
   "source": [
    "if df.shape[0] > 10:\n",
    "    print(\"Long dataframe\")\n",
    "else:\n",
    "    print(\"Not so long dataframe\")"
   ]
  },
  {
   "cell_type": "markdown",
   "id": "ab156669-4fd1-4ec7-a10a-52b0a8105ad5",
   "metadata": {},
   "source": [
    "### Statements that should be executed based on the expression _must_ be indented, and indented in the same way"
   ]
  },
  {
   "cell_type": "code",
   "execution_count": 13,
   "id": "9865a528-86f8-4865-b7d6-1e50dd38810a",
   "metadata": {},
   "outputs": [
    {
     "name": "stdout",
     "output_type": "stream",
     "text": [
      "Outside condition\n"
     ]
    }
   ],
   "source": [
    "if False:\n",
    "    print(\"Inside condition\")\n",
    "print(\"Outside condition\")"
   ]
  },
  {
   "cell_type": "code",
   "execution_count": 15,
   "id": "5394687b-1967-4e53-bbc6-73741f444fc4",
   "metadata": {},
   "outputs": [
    {
     "ename": "IndentationError",
     "evalue": "unindent does not match any outer indentation level (<tokenize>, line 3)",
     "output_type": "error",
     "traceback": [
      "\u001b[0;36m  File \u001b[0;32m<tokenize>:3\u001b[0;36m\u001b[0m\n\u001b[0;31m    print(\"Outside condition\")\u001b[0m\n\u001b[0m    ^\u001b[0m\n\u001b[0;31mIndentationError\u001b[0m\u001b[0;31m:\u001b[0m unindent does not match any outer indentation level\n"
     ]
    }
   ],
   "source": [
    "if False:\n",
    "    print(\"Inside condition\")\n",
    "  print(\"Outside condition\")"
   ]
  },
  {
   "cell_type": "code",
   "execution_count": 16,
   "id": "27188ec5-4ee6-48f7-8fc0-c14bed6b75aa",
   "metadata": {},
   "outputs": [
    {
     "ename": "IndentationError",
     "evalue": "unexpected indent (2297102792.py, line 3)",
     "output_type": "error",
     "traceback": [
      "\u001b[0;36m  Input \u001b[0;32mIn [16]\u001b[0;36m\u001b[0m\n\u001b[0;31m    print(\"Outside condition\")\u001b[0m\n\u001b[0m    ^\u001b[0m\n\u001b[0;31mIndentationError\u001b[0m\u001b[0;31m:\u001b[0m unexpected indent\n"
     ]
    }
   ],
   "source": [
    "if False:\n",
    "    print(\"Inside condition\")\n",
    "        print(\"Outside condition\")"
   ]
  },
  {
   "cell_type": "markdown",
   "id": "19619143-e1b4-4b41-959c-f60c33e25ced",
   "metadata": {},
   "source": [
    "## 1.4 Loops"
   ]
  },
  {
   "cell_type": "code",
   "execution_count": 17,
   "id": "67376e90-d924-4a49-833f-3467b5d7355b",
   "metadata": {},
   "outputs": [
    {
     "name": "stdout",
     "output_type": "stream",
     "text": [
      "city      New York\n",
      "number         100\n",
      "Name: 0, dtype: object\n",
      "city      Chicago\n",
      "number         50\n",
      "Name: 1, dtype: object\n"
     ]
    }
   ],
   "source": [
    "for index, row in df.iterrows():\n",
    "    print(row)"
   ]
  },
  {
   "cell_type": "code",
   "execution_count": 20,
   "id": "3f5f63a1-6ab9-4520-891b-540c8584cf30",
   "metadata": {},
   "outputs": [
    {
     "name": "stdout",
     "output_type": "stream",
     "text": [
      "100\n",
      "50\n"
     ]
    }
   ],
   "source": [
    "i = 0\n",
    "while True:\n",
    "    print(df.number[i])\n",
    "    i += 1\n",
    "    if i == df.shape[0]:\n",
    "        break"
   ]
  },
  {
   "cell_type": "markdown",
   "id": "5ac40315-8237-4e47-bc52-474492fdc9ea",
   "metadata": {},
   "source": [
    "## 1.5 Exceptions"
   ]
  },
  {
   "cell_type": "code",
   "execution_count": 23,
   "id": "9305448a-2d02-4520-a5c7-11c0cfbb2446",
   "metadata": {},
   "outputs": [
    {
     "data": {
      "text/plain": [
       "123"
      ]
     },
     "execution_count": 23,
     "metadata": {},
     "output_type": "execute_result"
    }
   ],
   "source": [
    "a = None\n",
    "try:\n",
    "    a = int(\"123\")\n",
    "except ValueError:\n",
    "    print(\"Does not look like a number\")\n",
    "a"
   ]
  },
  {
   "cell_type": "code",
   "execution_count": 24,
   "id": "19184445-14d3-4dad-85bd-7197e975c9f4",
   "metadata": {},
   "outputs": [
    {
     "name": "stdout",
     "output_type": "stream",
     "text": [
      "Does not look like a number\n"
     ]
    }
   ],
   "source": [
    "a = None\n",
    "try:\n",
    "    a = int(\"mmmm\")\n",
    "except ValueError:\n",
    "    print(\"Does not look like a number\")\n",
    "a"
   ]
  },
  {
   "cell_type": "markdown",
   "id": "bc05239d-0687-471e-9a2b-ed370b5e787c",
   "metadata": {},
   "source": [
    "# 2. Expressions"
   ]
  },
  {
   "cell_type": "markdown",
   "id": "8a0f6ba9-2ee5-49e1-9177-27e5e64b1858",
   "metadata": {},
   "source": [
    "## 2.1 Binary operators"
   ]
  },
  {
   "cell_type": "code",
   "execution_count": 25,
   "id": "4e09e778-be88-4ede-80bd-a9cbf485ebeb",
   "metadata": {},
   "outputs": [
    {
     "data": {
      "text/plain": [
       "(1.6666666666666667, 1, 2)"
      ]
     },
     "execution_count": 25,
     "metadata": {},
     "output_type": "execute_result"
    }
   ],
   "source": [
    "(\n",
    "    5 / 3,\n",
    "    5 // 3,\n",
    "    5 % 3\n",
    ")"
   ]
  },
  {
   "cell_type": "code",
   "execution_count": 26,
   "id": "97099046-19ea-4bc6-901d-6b8ec75d3c75",
   "metadata": {},
   "outputs": [
    {
     "data": {
      "text/plain": [
       "False"
      ]
     },
     "execution_count": 26,
     "metadata": {},
     "output_type": "execute_result"
    }
   ],
   "source": [
    "False and True"
   ]
  },
  {
   "cell_type": "code",
   "execution_count": 27,
   "id": "29c66219-a201-4b92-a55a-9404f22fd742",
   "metadata": {},
   "outputs": [
    {
     "data": {
      "text/plain": [
       "True"
      ]
     },
     "execution_count": 27,
     "metadata": {},
     "output_type": "execute_result"
    }
   ],
   "source": [
    "False or True"
   ]
  },
  {
   "cell_type": "code",
   "execution_count": 28,
   "id": "fbd9b693-205b-4c07-a511-517ad7049a44",
   "metadata": {},
   "outputs": [
    {
     "data": {
      "text/plain": [
       "'Look here!'"
      ]
     },
     "execution_count": 28,
     "metadata": {},
     "output_type": "execute_result"
    }
   ],
   "source": [
    "False or \"Look here!\""
   ]
  },
  {
   "cell_type": "code",
   "execution_count": 30,
   "id": "54f2b2ce-1506-4070-af39-33829918a760",
   "metadata": {},
   "outputs": [
    {
     "data": {
      "text/plain": [
       "'Look here!'"
      ]
     },
     "execution_count": 30,
     "metadata": {},
     "output_type": "execute_result"
    }
   ],
   "source": [
    "True and \"Look here!\""
   ]
  },
  {
   "cell_type": "code",
   "execution_count": 32,
   "id": "08a9e6a4-8fd7-4166-a858-1786c0b8ab8f",
   "metadata": {},
   "outputs": [
    {
     "data": {
      "text/plain": [
       "'String string'"
      ]
     },
     "execution_count": 32,
     "metadata": {},
     "output_type": "execute_result"
    }
   ],
   "source": [
    "\"String \" + \"string\""
   ]
  },
  {
   "cell_type": "code",
   "execution_count": 33,
   "id": "41c6bd8f-0344-45e5-9198-f28c3342b658",
   "metadata": {},
   "outputs": [
    {
     "ename": "TypeError",
     "evalue": "unsupported operand type(s) for -: 'str' and 'str'",
     "output_type": "error",
     "traceback": [
      "\u001b[0;31m---------------------------------------------------------------------------\u001b[0m",
      "\u001b[0;31mTypeError\u001b[0m                                 Traceback (most recent call last)",
      "Input \u001b[0;32mIn [33]\u001b[0m, in \u001b[0;36m<cell line: 1>\u001b[0;34m()\u001b[0m\n\u001b[0;32m----> 1\u001b[0m \u001b[38;5;124;43m\"\u001b[39;49m\u001b[38;5;124;43mString \u001b[39;49m\u001b[38;5;124;43m\"\u001b[39;49m\u001b[43m \u001b[49m\u001b[38;5;241;43m-\u001b[39;49m\u001b[43m \u001b[49m\u001b[38;5;124;43m\"\u001b[39;49m\u001b[38;5;124;43mstring\u001b[39;49m\u001b[38;5;124;43m\"\u001b[39;49m\n",
      "\u001b[0;31mTypeError\u001b[0m: unsupported operand type(s) for -: 'str' and 'str'"
     ]
    }
   ],
   "source": [
    "\"String \" - \"string\""
   ]
  },
  {
   "cell_type": "code",
   "execution_count": 34,
   "id": "c7401d2c-e720-4b37-863f-7ea1860049dd",
   "metadata": {},
   "outputs": [
    {
     "data": {
      "text/plain": [
       "'String String '"
      ]
     },
     "execution_count": 34,
     "metadata": {},
     "output_type": "execute_result"
    }
   ],
   "source": [
    "\"String \" * 2"
   ]
  },
  {
   "cell_type": "code",
   "execution_count": 38,
   "id": "30a9fd41-def7-437d-a47b-70bb22526420",
   "metadata": {},
   "outputs": [
    {
     "data": {
      "text/plain": [
       "True"
      ]
     },
     "execution_count": 38,
     "metadata": {},
     "output_type": "execute_result"
    }
   ],
   "source": [
    "\"A\" + \"b\" == \"Ab\""
   ]
  },
  {
   "cell_type": "code",
   "execution_count": 39,
   "id": "75d4e844-302c-4420-952c-67b10276b88a",
   "metadata": {},
   "outputs": [
    {
     "ename": "TypeError",
     "evalue": "can only concatenate str (not \"bool\") to str",
     "output_type": "error",
     "traceback": [
      "\u001b[0;31m---------------------------------------------------------------------------\u001b[0m",
      "\u001b[0;31mTypeError\u001b[0m                                 Traceback (most recent call last)",
      "Input \u001b[0;32mIn [39]\u001b[0m, in \u001b[0;36m<cell line: 1>\u001b[0;34m()\u001b[0m\n\u001b[0;32m----> 1\u001b[0m \u001b[38;5;124;43m\"\u001b[39;49m\u001b[38;5;124;43mA\u001b[39;49m\u001b[38;5;124;43m\"\u001b[39;49m\u001b[43m \u001b[49m\u001b[38;5;241;43m+\u001b[39;49m\u001b[43m \u001b[49m\u001b[43m(\u001b[49m\u001b[38;5;124;43m\"\u001b[39;49m\u001b[38;5;124;43mb\u001b[39;49m\u001b[38;5;124;43m\"\u001b[39;49m\u001b[43m \u001b[49m\u001b[38;5;241;43m==\u001b[39;49m\u001b[43m \u001b[49m\u001b[38;5;124;43m\"\u001b[39;49m\u001b[38;5;124;43mAb\u001b[39;49m\u001b[38;5;124;43m\"\u001b[39;49m\u001b[43m)\u001b[49m\n",
      "\u001b[0;31mTypeError\u001b[0m: can only concatenate str (not \"bool\") to str"
     ]
    }
   ],
   "source": [
    "\"A\" + (\"b\" == \"Ab\")"
   ]
  },
  {
   "cell_type": "markdown",
   "id": "f0b95cef-ef39-4cac-834a-6f9c2511a80b",
   "metadata": {},
   "source": [
    "## 2.2 Square brackets"
   ]
  },
  {
   "cell_type": "markdown",
   "id": "7058ab5c-7f31-421f-bfd5-2051ff12eaaf",
   "metadata": {},
   "source": [
    "`[` can be used with some types, but not others, to get some data from an object that has multiple data\n",
    "\n",
    "Such objects are either _sequences_: list, tuple, string (list of characters)\n",
    "\n",
    "Or _dictionaries_: key-value container"
   ]
  },
  {
   "cell_type": "markdown",
   "id": "f06b4463-b78a-45f8-a49d-617e1fc6ee34",
   "metadata": {},
   "source": [
    "### Getting one element"
   ]
  },
  {
   "cell_type": "code",
   "execution_count": 41,
   "id": "49f95a10-226a-4db3-92a4-62fb597ce7c9",
   "metadata": {},
   "outputs": [
    {
     "data": {
      "text/plain": [
       "10"
      ]
     },
     "execution_count": 41,
     "metadata": {},
     "output_type": "execute_result"
    }
   ],
   "source": [
    "l = [1, 2, 10]\n",
    "l[2]"
   ]
  },
  {
   "cell_type": "code",
   "execution_count": 42,
   "id": "e035297d-fac6-43dc-9c2e-71c1aeee5cd4",
   "metadata": {},
   "outputs": [
    {
     "data": {
      "text/plain": [
       "10"
      ]
     },
     "execution_count": 42,
     "metadata": {},
     "output_type": "execute_result"
    }
   ],
   "source": [
    "t = (1, 2, 10)\n",
    "t[2]"
   ]
  },
  {
   "cell_type": "code",
   "execution_count": 43,
   "id": "cffd3795-fb03-49bb-b6c4-7ec9a07cacb3",
   "metadata": {},
   "outputs": [
    {
     "data": {
      "text/plain": [
       "'2'"
      ]
     },
     "execution_count": 43,
     "metadata": {},
     "output_type": "execute_result"
    }
   ],
   "source": [
    "d = {1: 1, 2: \"2\", 10: 100}\n",
    "d[2]"
   ]
  },
  {
   "cell_type": "markdown",
   "id": "cde08b60-39fa-47e6-94dd-6c18fb0936df",
   "metadata": {},
   "source": [
    "### Setting one element"
   ]
  },
  {
   "cell_type": "code",
   "execution_count": 45,
   "id": "6b510ed0-b007-4468-892a-4f3b3035360b",
   "metadata": {},
   "outputs": [
    {
     "data": {
      "text/plain": [
       "[1, 2, 100]"
      ]
     },
     "execution_count": 45,
     "metadata": {},
     "output_type": "execute_result"
    }
   ],
   "source": [
    "l[2] = 100\n",
    "l"
   ]
  },
  {
   "cell_type": "code",
   "execution_count": 46,
   "id": "04c66397-c63d-4977-83f9-052a37f7ac2a",
   "metadata": {},
   "outputs": [
    {
     "ename": "TypeError",
     "evalue": "'tuple' object does not support item assignment",
     "output_type": "error",
     "traceback": [
      "\u001b[0;31m---------------------------------------------------------------------------\u001b[0m",
      "\u001b[0;31mTypeError\u001b[0m                                 Traceback (most recent call last)",
      "Input \u001b[0;32mIn [46]\u001b[0m, in \u001b[0;36m<cell line: 1>\u001b[0;34m()\u001b[0m\n\u001b[0;32m----> 1\u001b[0m t[\u001b[38;5;241m2\u001b[39m] \u001b[38;5;241m=\u001b[39m \u001b[38;5;241m100\u001b[39m\n\u001b[1;32m      2\u001b[0m t\n",
      "\u001b[0;31mTypeError\u001b[0m: 'tuple' object does not support item assignment"
     ]
    }
   ],
   "source": [
    "t[2] = 100\n",
    "t"
   ]
  },
  {
   "cell_type": "code",
   "execution_count": 47,
   "id": "8cd12c14-df10-43b2-af81-2cc5c3ab1c36",
   "metadata": {},
   "outputs": [
    {
     "data": {
      "text/plain": [
       "{1: 1, 2: 100, 10: 100}"
      ]
     },
     "execution_count": 47,
     "metadata": {},
     "output_type": "execute_result"
    }
   ],
   "source": [
    "d[2] = 100\n",
    "d"
   ]
  },
  {
   "cell_type": "markdown",
   "id": "bb5f3fcd-93b4-4d49-890f-9e845bcfa651",
   "metadata": {},
   "source": [
    "### Getting a slice (subsequence) of elements"
   ]
  },
  {
   "cell_type": "code",
   "execution_count": 48,
   "id": "840fc991-7841-40ec-9515-a3747b188abd",
   "metadata": {},
   "outputs": [
    {
     "data": {
      "text/plain": [
       "[2, 100]"
      ]
     },
     "execution_count": 48,
     "metadata": {},
     "output_type": "execute_result"
    }
   ],
   "source": [
    "l[1:3]"
   ]
  },
  {
   "cell_type": "code",
   "execution_count": 49,
   "id": "61a03f86-6e8b-4cb6-b478-085c90b05f35",
   "metadata": {},
   "outputs": [
    {
     "data": {
      "text/plain": [
       "[1, 2]"
      ]
     },
     "execution_count": 49,
     "metadata": {},
     "output_type": "execute_result"
    }
   ],
   "source": [
    "l[:2]"
   ]
  },
  {
   "cell_type": "code",
   "execution_count": 50,
   "id": "91012059-db80-4cd7-9028-b545d9cd5068",
   "metadata": {},
   "outputs": [
    {
     "data": {
      "text/plain": [
       "[100]"
      ]
     },
     "execution_count": 50,
     "metadata": {},
     "output_type": "execute_result"
    }
   ],
   "source": [
    "l[2:]"
   ]
  },
  {
   "cell_type": "code",
   "execution_count": 51,
   "id": "49df8a22-1ff7-4940-b3c0-1b7e23de6c96",
   "metadata": {},
   "outputs": [
    {
     "data": {
      "text/plain": [
       "[1, 2, 100]"
      ]
     },
     "execution_count": 51,
     "metadata": {},
     "output_type": "execute_result"
    }
   ],
   "source": [
    "l[:]"
   ]
  },
  {
   "cell_type": "code",
   "execution_count": 52,
   "id": "74dc70d9-6187-4d66-ae09-470d90b8fcd3",
   "metadata": {},
   "outputs": [
    {
     "data": {
      "text/plain": [
       "[100, 2, 1]"
      ]
     },
     "execution_count": 52,
     "metadata": {},
     "output_type": "execute_result"
    }
   ],
   "source": [
    "l[::-1]"
   ]
  },
  {
   "cell_type": "code",
   "execution_count": 53,
   "id": "c4ac6b3a-dbed-4b95-9b7d-7a11867cae6d",
   "metadata": {},
   "outputs": [
    {
     "data": {
      "text/plain": [
       "[]"
      ]
     },
     "execution_count": 53,
     "metadata": {},
     "output_type": "execute_result"
    }
   ],
   "source": [
    "l[0:3:-1]"
   ]
  },
  {
   "cell_type": "code",
   "execution_count": 54,
   "id": "70d5fa7f-f47c-4550-8184-e477619a2ed6",
   "metadata": {},
   "outputs": [
    {
     "data": {
      "text/plain": [
       "[100, 2]"
      ]
     },
     "execution_count": 54,
     "metadata": {},
     "output_type": "execute_result"
    }
   ],
   "source": [
    "l[3:0:-1]"
   ]
  },
  {
   "cell_type": "code",
   "execution_count": 55,
   "id": "e0dfc73c-a3dd-49ef-81a2-9d286a550555",
   "metadata": {},
   "outputs": [
    {
     "data": {
      "text/plain": [
       "[]"
      ]
     },
     "execution_count": 55,
     "metadata": {},
     "output_type": "execute_result"
    }
   ],
   "source": [
    "l[3:-1:-1]"
   ]
  },
  {
   "cell_type": "code",
   "execution_count": 56,
   "id": "d9e95177-2dba-496b-8981-5d1bd7e3390a",
   "metadata": {},
   "outputs": [
    {
     "data": {
      "text/plain": [
       "[100, 2, 1]"
      ]
     },
     "execution_count": 56,
     "metadata": {},
     "output_type": "execute_result"
    }
   ],
   "source": [
    "l[3::-1]"
   ]
  },
  {
   "cell_type": "markdown",
   "id": "f027a026-0c29-4ef6-9dfb-15bd5a4c7080",
   "metadata": {},
   "source": [
    "Same applies to **tuples**, but not to **dictionaries**"
   ]
  },
  {
   "cell_type": "code",
   "execution_count": 57,
   "id": "d788e06b-09b7-4ae8-9732-dfdaf3f9c0d8",
   "metadata": {},
   "outputs": [
    {
     "data": {
      "text/plain": [
       "(10, 2, 1)"
      ]
     },
     "execution_count": 57,
     "metadata": {},
     "output_type": "execute_result"
    }
   ],
   "source": [
    "t[::-1]"
   ]
  },
  {
   "cell_type": "code",
   "execution_count": 58,
   "id": "31cbdf61-dfba-4371-8d81-85da66b3a22a",
   "metadata": {},
   "outputs": [
    {
     "ename": "TypeError",
     "evalue": "unhashable type: 'slice'",
     "output_type": "error",
     "traceback": [
      "\u001b[0;31m---------------------------------------------------------------------------\u001b[0m",
      "\u001b[0;31mTypeError\u001b[0m                                 Traceback (most recent call last)",
      "Input \u001b[0;32mIn [58]\u001b[0m, in \u001b[0;36m<cell line: 1>\u001b[0;34m()\u001b[0m\n\u001b[0;32m----> 1\u001b[0m \u001b[43md\u001b[49m\u001b[43m[\u001b[49m\u001b[43m:\u001b[49m\u001b[43m]\u001b[49m\n",
      "\u001b[0;31mTypeError\u001b[0m: unhashable type: 'slice'"
     ]
    }
   ],
   "source": [
    "d[:]"
   ]
  },
  {
   "cell_type": "markdown",
   "id": "e2aefa04-b684-4693-bc64-88b028cd15ed",
   "metadata": {},
   "source": [
    "Multiple assignment is also possible with lists"
   ]
  },
  {
   "cell_type": "code",
   "execution_count": 60,
   "id": "360e2e74-180e-42ad-9fc2-ee3dec075414",
   "metadata": {},
   "outputs": [
    {
     "data": {
      "text/plain": [
       "[10, 100]"
      ]
     },
     "execution_count": 60,
     "metadata": {},
     "output_type": "execute_result"
    }
   ],
   "source": [
    "l[:2] = [10]\n",
    "l"
   ]
  },
  {
   "cell_type": "markdown",
   "id": "6b6640ed-eb67-4a5b-84e8-e8bb12964e5b",
   "metadata": {},
   "source": [
    "# 3. Working with pandas data frames"
   ]
  },
  {
   "cell_type": "markdown",
   "id": "be9adc25-49bb-4394-98cd-30f60f007f61",
   "metadata": {},
   "source": [
    "To select a column, or row as Series: use `loc` or `iloc` with one coordinate a single value\n",
    "\n",
    "To select a particular value: use `at` or `iat`, or `loc` or `iloc` with _both_ coordinates as a single value\n",
    "\n",
    "To select a value from the Series: use `[` or `at` or `iat` or `loc` or `iloc`\n",
    "\n",
    "To select a sub-table: use `loc` or `iloc` with both coordinates as lists or slices\n",
    "\n",
    "_i_-operators (`iat`, `iloc`) are for selecting by position (1st row, 10th column etc)\n",
    "\n",
    "regular operator (`at`, `loc`) are for selecting by labels (index for rows, columns for columns)"
   ]
  },
  {
   "cell_type": "markdown",
   "id": "cc465945-89a2-469a-b5b7-01ce75e48b5e",
   "metadata": {},
   "source": [
    "## 3.1 Selecting a column"
   ]
  },
  {
   "cell_type": "code",
   "execution_count": 63,
   "id": "bfcaf553-90fe-4f7d-be30-cfab3215f7ac",
   "metadata": {},
   "outputs": [
    {
     "data": {
      "text/plain": [
       "0    New York\n",
       "1     Chicago\n",
       "Name: city, dtype: object"
      ]
     },
     "execution_count": 63,
     "metadata": {},
     "output_type": "execute_result"
    }
   ],
   "source": [
    "df.loc[:, \"city\"]"
   ]
  },
  {
   "cell_type": "code",
   "execution_count": 64,
   "id": "a03a4ce8-6657-4391-b981-d92104dca256",
   "metadata": {},
   "outputs": [
    {
     "data": {
      "text/plain": [
       "0    New York\n",
       "1     Chicago\n",
       "Name: city, dtype: object"
      ]
     },
     "execution_count": 64,
     "metadata": {},
     "output_type": "execute_result"
    }
   ],
   "source": [
    "df[\"city\"]"
   ]
  },
  {
   "cell_type": "code",
   "execution_count": 65,
   "id": "644eedb9-a343-4adb-a63c-78fa898ba302",
   "metadata": {},
   "outputs": [
    {
     "data": {
      "text/plain": [
       "0    New York\n",
       "1     Chicago\n",
       "Name: city, dtype: object"
      ]
     },
     "execution_count": 65,
     "metadata": {},
     "output_type": "execute_result"
    }
   ],
   "source": [
    "df.city"
   ]
  },
  {
   "cell_type": "markdown",
   "id": "13e71e82-0e63-4a27-ba7c-978d2fd2310e",
   "metadata": {},
   "source": [
    "## 3.2 Selecting sub-table"
   ]
  },
  {
   "cell_type": "code",
   "execution_count": 66,
   "id": "644807a2-9f49-42cd-af4c-c492ffb74221",
   "metadata": {},
   "outputs": [
    {
     "data": {
      "text/html": [
       "<div>\n",
       "<style scoped>\n",
       "    .dataframe tbody tr th:only-of-type {\n",
       "        vertical-align: middle;\n",
       "    }\n",
       "\n",
       "    .dataframe tbody tr th {\n",
       "        vertical-align: top;\n",
       "    }\n",
       "\n",
       "    .dataframe thead th {\n",
       "        text-align: right;\n",
       "    }\n",
       "</style>\n",
       "<table border=\"1\" class=\"dataframe\">\n",
       "  <thead>\n",
       "    <tr style=\"text-align: right;\">\n",
       "      <th></th>\n",
       "      <th>city</th>\n",
       "    </tr>\n",
       "  </thead>\n",
       "  <tbody>\n",
       "    <tr>\n",
       "      <th>0</th>\n",
       "      <td>New York</td>\n",
       "    </tr>\n",
       "    <tr>\n",
       "      <th>1</th>\n",
       "      <td>Chicago</td>\n",
       "    </tr>\n",
       "  </tbody>\n",
       "</table>\n",
       "</div>"
      ],
      "text/plain": [
       "       city\n",
       "0  New York\n",
       "1   Chicago"
      ]
     },
     "execution_count": 66,
     "metadata": {},
     "output_type": "execute_result"
    }
   ],
   "source": [
    "df.loc[:, [\"city\"]]"
   ]
  },
  {
   "cell_type": "markdown",
   "id": "dde302b0-9f84-4fd1-830e-36a576b32df3",
   "metadata": {},
   "source": [
    "## 3.3 Adding (or setting) a column"
   ]
  },
  {
   "cell_type": "code",
   "execution_count": 75,
   "id": "b3a02474-71d9-4bf7-98e4-9c038523e20f",
   "metadata": {},
   "outputs": [
    {
     "data": {
      "text/html": [
       "<div>\n",
       "<style scoped>\n",
       "    .dataframe tbody tr th:only-of-type {\n",
       "        vertical-align: middle;\n",
       "    }\n",
       "\n",
       "    .dataframe tbody tr th {\n",
       "        vertical-align: top;\n",
       "    }\n",
       "\n",
       "    .dataframe thead th {\n",
       "        text-align: right;\n",
       "    }\n",
       "</style>\n",
       "<table border=\"1\" class=\"dataframe\">\n",
       "  <thead>\n",
       "    <tr style=\"text-align: right;\">\n",
       "      <th></th>\n",
       "      <th>city</th>\n",
       "      <th>number</th>\n",
       "      <th>temperature</th>\n",
       "    </tr>\n",
       "  </thead>\n",
       "  <tbody>\n",
       "    <tr>\n",
       "      <th>0</th>\n",
       "      <td>New York</td>\n",
       "      <td>100</td>\n",
       "      <td>80</td>\n",
       "    </tr>\n",
       "    <tr>\n",
       "      <th>1</th>\n",
       "      <td>Chicago</td>\n",
       "      <td>50</td>\n",
       "      <td>60</td>\n",
       "    </tr>\n",
       "  </tbody>\n",
       "</table>\n",
       "</div>"
      ],
      "text/plain": [
       "       city  number  temperature\n",
       "0  New York     100           80\n",
       "1   Chicago      50           60"
      ]
     },
     "execution_count": 75,
     "metadata": {},
     "output_type": "execute_result"
    }
   ],
   "source": [
    "df[\"temperature\"] = [80, 60]\n",
    "df"
   ]
  },
  {
   "cell_type": "code",
   "execution_count": null,
   "id": "68ec2125-1b48-497e-8e7e-7e2109c453c0",
   "metadata": {},
   "outputs": [],
   "source": []
  }
 ],
 "metadata": {
  "kernelspec": {
   "display_name": "Python 3 (ipykernel)",
   "language": "python",
   "name": "python3"
  },
  "language_info": {
   "codemirror_mode": {
    "name": "ipython",
    "version": 3
   },
   "file_extension": ".py",
   "mimetype": "text/x-python",
   "name": "python",
   "nbconvert_exporter": "python",
   "pygments_lexer": "ipython3",
   "version": "3.9.6"
  }
 },
 "nbformat": 4,
 "nbformat_minor": 5
}
