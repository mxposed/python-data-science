{
 "cells": [
  {
   "cell_type": "code",
   "execution_count": null,
   "id": "2f4d11a3-7bbf-46db-b73c-b14dc73d5c70",
   "metadata": {},
   "outputs": [],
   "source": [
    "import pandas as pd"
   ]
  },
  {
   "cell_type": "code",
   "execution_count": null,
   "id": "bb69c87c-be15-4102-8ee6-7a2adfeb7245",
   "metadata": {},
   "outputs": [],
   "source": [
    "pd.options.display.max_columns = 50"
   ]
  },
  {
   "cell_type": "markdown",
   "id": "889d331d-e8a3-4d6a-a385-c255daf6997a",
   "metadata": {},
   "source": [
    "# Pandas table rearrangements"
   ]
  },
  {
   "cell_type": "markdown",
   "id": "a287f652-68d2-4825-b791-22c20306b0fc",
   "metadata": {},
   "source": [
    "We'll be using free data via gapminder.org [repository](https://github.com/open-numbers/ddf--gapminder--systema_globalis), CC-BY LICENSE for this exercise. \n",
    "\n",
    "Let's load the data from its storage on github: two tables, with information about world's countries:"
   ]
  },
  {
   "cell_type": "code",
   "execution_count": null,
   "id": "d46c4f75-1bbe-4ddf-af0e-d48a1edd13bf",
   "metadata": {},
   "outputs": [],
   "source": [
    "countries = pd.read_csv(\n",
    "    \"https://raw.githubusercontent.com/open-numbers/ddf--gapminder--systema_globalis\"\n",
    "    \"/master/ddf--entities--geo--country.csv\"\n",
    ")"
   ]
  },
  {
   "cell_type": "code",
   "execution_count": null,
   "id": "0307d922-1b80-46be-8fe3-cbfe34986072",
   "metadata": {},
   "outputs": [],
   "source": [
    "population = pd.read_csv(\n",
    "    \"https://raw.githubusercontent.com/open-numbers/ddf--gapminder--systema_globalis\"\n",
    "    \"/master/countries-etc-datapoints/ddf--datapoints--population_total--by--geo--time.csv\"    \n",
    ")"
   ]
  },
  {
   "cell_type": "markdown",
   "id": "cddb4971-951e-4438-8a6e-418bde2cfac9",
   "metadata": {},
   "source": [
    "## 1. Long form vs wide form tables"
   ]
  },
  {
   "cell_type": "markdown",
   "id": "c5c99d4b-9286-42b6-ad90-71c740c97a73",
   "metadata": {},
   "source": [
    "Same data can be stored in different formats and shapes of tables. This applies to pandas as well.\n",
    "\n",
    "Depending on the circumstances, you might need a particular form of the table."
   ]
  },
  {
   "cell_type": "markdown",
   "id": "ffa4a623-d0df-44c7-8935-65888a5232e9",
   "metadata": {},
   "source": [
    "Here are random 10 rows from the population table"
   ]
  },
  {
   "cell_type": "code",
   "execution_count": null,
   "id": "30658d9c-0240-4b97-a6f6-da0eeb979d49",
   "metadata": {},
   "outputs": [],
   "source": [
    "population.sample(10)"
   ]
  },
  {
   "cell_type": "markdown",
   "id": "f713e15f-06c0-4912-b978-2a8ee0abb9d6",
   "metadata": {},
   "source": [
    "Each country has many rows for each year, and the county's code is repeated. This is the `long form` of this data."
   ]
  },
  {
   "cell_type": "markdown",
   "id": "23de63ca-af37-4086-bac2-07dec5a25120",
   "metadata": {},
   "source": [
    "The `wide form` of this data would not have country code repeated.\n",
    "\n",
    "Instead, it would have a column for each year.\n",
    "\n",
    "To convert `long` to `wide` form, there is `pivot` dataframe method:"
   ]
  },
  {
   "cell_type": "code",
   "execution_count": null,
   "id": "95ebc160-cad7-4267-b58d-1b7ecfb017ef",
   "metadata": {},
   "outputs": [],
   "source": [
    "wide_form = population.pivot(index=\"geo\", columns=\"time\")\n",
    "wide_form"
   ]
  },
  {
   "cell_type": "markdown",
   "id": "d6c7ae1f-842d-4033-ae3d-b0b8621be451",
   "metadata": {},
   "source": [
    "## 2. Index manipulations"
   ]
  },
  {
   "cell_type": "markdown",
   "id": "6a72d388-7c1c-46e3-920e-18c37b74b7ac",
   "metadata": {},
   "source": [
    "In a pandas table rows and columns have names, which are stored in `index` and `columns` respectively.\n",
    "\n",
    "They can be changed and this can be useful in a number of situations."
   ]
  },
  {
   "cell_type": "markdown",
   "id": "6235c9c5-fac9-4acc-886e-a3f94271060a",
   "metadata": {},
   "source": [
    "### 1. Move index (row names) inside the table"
   ]
  },
  {
   "cell_type": "markdown",
   "id": "f48d2cb0-3f68-454a-b2b0-4ac3f2324a16",
   "metadata": {},
   "source": [
    "Sometimes you need to have the row names of your table inside as another column to perform operation on it. To do this, use `reset_index` method of the dataframe. It return the modified dataframe"
   ]
  },
  {
   "cell_type": "code",
   "execution_count": null,
   "id": "8a0dfd37-f3b3-41a1-ae39-a98aa5be9ad7",
   "metadata": {},
   "outputs": [],
   "source": [
    "wide_form = wide_form.reset_index()\n",
    "wide_form"
   ]
  },
  {
   "cell_type": "markdown",
   "id": "9e3772ca-91d8-4af0-8507-ebe76d0f0f08",
   "metadata": {},
   "source": [
    "### 2. Set index (row names) to a specific column"
   ]
  },
  {
   "cell_type": "markdown",
   "id": "28580a1a-0bf5-4a86-814e-c43e9ed599da",
   "metadata": {},
   "source": [
    "To do that, use `set_index` method, it also returns the modified dataframe."
   ]
  },
  {
   "cell_type": "code",
   "execution_count": null,
   "id": "757c4244-3741-4556-a3c0-f9f870802c48",
   "metadata": {},
   "outputs": [],
   "source": [
    "countries_by_name = countries.set_index(\"country\")\n",
    "countries_by_name"
   ]
  },
  {
   "cell_type": "markdown",
   "id": "fe76b59c-5650-4d29-afef-ae08f4e49c14",
   "metadata": {},
   "source": [
    "### 3. Directly assigning index or columns"
   ]
  },
  {
   "cell_type": "markdown",
   "id": "5bcbb28e-0e99-42e2-8729-4f311ba0e020",
   "metadata": {},
   "source": [
    "Notice that the `set_index` method performs additional action. To avoid that we can always just directly assign to the dataframe `index` or `columns`"
   ]
  },
  {
   "cell_type": "code",
   "execution_count": null,
   "id": "43cb3a5a-2c5a-44aa-9de9-fd3083f3836a",
   "metadata": {},
   "outputs": [],
   "source": [
    "countries.index = countries.country\n",
    "countries"
   ]
  },
  {
   "cell_type": "code",
   "execution_count": null,
   "id": "a5c3aa20-942b-49cc-a9c2-8366c673dbff",
   "metadata": {},
   "outputs": [],
   "source": [
    "countries_core_info = countries.loc[:, [\"income_3groups\", \"world_4region\", \"name\", \"un_state\"]]\n",
    "countries_core_info.columns = [\"income\", \"region\", \"name\", \"un_state\"]\n",
    "countries_core_info"
   ]
  },
  {
   "cell_type": "markdown",
   "id": "7b3347d4-adcd-4c06-92ae-a93259a246b6",
   "metadata": {},
   "source": [
    "### 4. Setting index to easily query data"
   ]
  },
  {
   "cell_type": "markdown",
   "id": "298042eb-d61f-41f9-8083-8a79f20928f8",
   "metadata": {},
   "source": [
    "One common reason to change index in a dataframe is to ease querying data.\n",
    "\n",
    "Because pandas can return you a subset of a table based on index, as we've seen with `loc` operator, it becomes easy to align 2 tables based on same column data."
   ]
  },
  {
   "cell_type": "code",
   "execution_count": null,
   "id": "f1038efa-b367-4ac5-b612-94db9d6dcf59",
   "metadata": {},
   "outputs": [],
   "source": [
    "countries_core_info.loc[wide_form.geo]"
   ]
  },
  {
   "cell_type": "markdown",
   "id": "8e52d681-6509-4570-9d20-0d4f5629caf0",
   "metadata": {},
   "source": [
    "## 3. Back to long form"
   ]
  },
  {
   "cell_type": "markdown",
   "id": "e1f67a78-72cd-411b-8735-c6990bde91a9",
   "metadata": {},
   "source": [
    "The reverse method of `pivot` is called `melt`. I don't know a good mnemonic to remember them.\n",
    "\n",
    "We can rearrange our table to a long form using it:"
   ]
  },
  {
   "cell_type": "code",
   "execution_count": null,
   "id": "d563b6b0-d509-4974-b0b5-c41bde22eb56",
   "metadata": {},
   "outputs": [],
   "source": [
    "long_form = wide_form.melt(id_vars=\"geo\")\n",
    "long_form"
   ]
  },
  {
   "cell_type": "markdown",
   "id": "56a426f8-ecfd-4e99-9b1b-791010823b7c",
   "metadata": {},
   "source": [
    "## 3. Classwork"
   ]
  },
  {
   "cell_type": "markdown",
   "id": "2ee7179c-7a24-445f-a32d-703f2eaf94dc",
   "metadata": {},
   "source": [
    "1. Pick your favourite region\n",
    "2. Create a table with years as index and total population in all countries from this region as the only column"
   ]
  },
  {
   "cell_type": "code",
   "execution_count": null,
   "id": "3f33d54a-eccf-4e3b-8bc2-c8bdd85b5c10",
   "metadata": {},
   "outputs": [],
   "source": []
  }
 ],
 "metadata": {
  "kernelspec": {
   "display_name": "Python 3 (ipykernel)",
   "language": "python",
   "name": "python3"
  },
  "language_info": {
   "codemirror_mode": {
    "name": "ipython",
    "version": 3
   },
   "file_extension": ".py",
   "mimetype": "text/x-python",
   "name": "python",
   "nbconvert_exporter": "python",
   "pygments_lexer": "ipython3",
   "version": "3.9.6"
  }
 },
 "nbformat": 4,
 "nbformat_minor": 5
}
