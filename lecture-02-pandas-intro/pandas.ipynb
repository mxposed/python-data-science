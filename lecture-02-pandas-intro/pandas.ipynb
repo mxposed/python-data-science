{
 "cells": [
  {
   "cell_type": "markdown",
   "id": "fb648b74-1101-416a-92cf-2cc6b124c5d2",
   "metadata": {},
   "source": [
    "# Basic pandas structure and data selection"
   ]
  },
  {
   "cell_type": "markdown",
   "id": "ef26d1e0-200c-4f1c-b60b-b2edea8d02bc",
   "metadata": {},
   "source": [
    "## 1. About the notebook"
   ]
  },
  {
   "cell_type": "markdown",
   "id": "4f66a031-921d-4d54-b415-205fc0cb51ce",
   "metadata": {},
   "source": [
    "This is a `jupyter` notebook, here you can combine text with formatting, python code and its output like tables or figures in one document.\n",
    "\n",
    "Notebooks consist of _cells_ which can be either `code` or `text` (with markdown formatting)"
   ]
  },
  {
   "cell_type": "markdown",
   "id": "c26f4a71-dc56-4fbe-ad9c-561a1e65b1fb",
   "metadata": {},
   "source": [
    "This is `text` _cell_, above are more `text` _cells_, below is a `code` _cell_"
   ]
  },
  {
   "cell_type": "code",
   "execution_count": 11,
   "id": "ca6ed5dc-3937-4f89-8886-2773567d91f1",
   "metadata": {},
   "outputs": [],
   "source": [
    "import pandas as pd"
   ]
  },
  {
   "cell_type": "markdown",
   "id": "4e811619-2c4a-4117-a5ac-d3eb5c04c627",
   "metadata": {},
   "source": [
    "You can recognize it by monospace font and the square brackets in front: `[1]`\n",
    "\n",
    "To run a `code` _cell_, press the ▶ button at the top, or hit Shift+Enter, or Ctrl+Enter, or Alt+Enter"
   ]
  },
  {
   "cell_type": "markdown",
   "id": "6049e1f8-76ec-4326-ba3a-59e4cf105955",
   "metadata": {},
   "source": [
    "If a `code` _cell_ has an output, it will be displayed below the _cell_, like here:"
   ]
  },
  {
   "cell_type": "code",
   "execution_count": 12,
   "id": "7f38cc50-df80-4d87-96e9-502346fc2921",
   "metadata": {},
   "outputs": [
    {
     "name": "stdout",
     "output_type": "stream",
     "text": [
      "This is output\n"
     ]
    }
   ],
   "source": [
    "print(\"This is output\")"
   ]
  },
  {
   "cell_type": "markdown",
   "id": "984addae-e92c-45e3-97b4-f4c9e2fc5414",
   "metadata": {},
   "source": [
    "This _cell_ will have output too:"
   ]
  },
  {
   "cell_type": "code",
   "execution_count": 15,
   "id": "f5db662d-c3c1-4d0e-a404-2207808db4d4",
   "metadata": {},
   "outputs": [
    {
     "data": {
      "text/plain": [
       "10"
      ]
     },
     "execution_count": 15,
     "metadata": {},
     "output_type": "execute_result"
    }
   ],
   "source": [
    "1 + 9"
   ]
  },
  {
   "cell_type": "markdown",
   "id": "fcab2ba1-c2cd-40b3-ab44-b55435007d81",
   "metadata": {},
   "source": [
    "Two very handy parts of `jupyter` notebooks are:\n",
    "* code completion\n",
    "* quick documentation"
   ]
  },
  {
   "cell_type": "markdown",
   "id": "19ba037d-fc56-4c0c-8f4c-3553dbe33d20",
   "metadata": {},
   "source": [
    "For code completion, start writing code and hit Tab, like here:"
   ]
  },
  {
   "cell_type": "code",
   "execution_count": null,
   "id": "0b23dd5c-4f60-40a7-9ac8-381b6940779a",
   "metadata": {},
   "outputs": [],
   "source": [
    "pd."
   ]
  },
  {
   "cell_type": "markdown",
   "id": "c9b78128-78d3-4d5d-b561-77fb4ead04f9",
   "metadata": {},
   "source": [
    "For quick documentation, place your cursor in the code section on a function, and hit Shift-Tab, like here:"
   ]
  },
  {
   "cell_type": "code",
   "execution_count": null,
   "id": "2b4c451b-dcb5-4de9-a1f2-9694c8c30984",
   "metadata": {},
   "outputs": [],
   "source": [
    "pd.read_csv"
   ]
  },
  {
   "cell_type": "markdown",
   "id": "c98c4e4a-e114-4686-953a-7e8dbc5ef84d",
   "metadata": {},
   "source": [
    "## 2. Getting data"
   ]
  },
  {
   "cell_type": "markdown",
   "id": "e6e7c9ad-c6f3-4ac7-ac4d-1301c810d638",
   "metadata": {},
   "source": [
    "We'll be using free data via gapminder.org [repository](https://github.com/open-numbers/ddf--gapminder--systema_globalis), CC-BY LICENSE for this exercise. \n",
    "\n",
    "Let's load the data its storage on github: two tables, with information about countries and their gini index by year:"
   ]
  },
  {
   "cell_type": "code",
   "execution_count": 13,
   "id": "9f1b9403-2d61-4bd4-8b6a-382eabefe0d4",
   "metadata": {},
   "outputs": [],
   "source": [
    "countries = pd.read_csv(\n",
    "    \"https://raw.githubusercontent.com/open-numbers/ddf--gapminder--systema_globalis\"\n",
    "    \"/master/ddf--entities--geo--country.csv\"\n",
    ")"
   ]
  },
  {
   "cell_type": "code",
   "execution_count": 14,
   "id": "9e0350d2-e5dd-40c8-8674-10b38c8bf245",
   "metadata": {},
   "outputs": [],
   "source": [
    "gini = pd.read_csv(\n",
    "    \"https://raw.githubusercontent.com/open-numbers/ddf--gapminder--systema_globalis\"\n",
    "    \"/master/countries-etc-datapoints/ddf--datapoints--gapminder_gini--by--geo--time.csv\"\n",
    ")"
   ]
  },
  {
   "cell_type": "markdown",
   "id": "03c3844d-eb91-4813-b780-d01f9b248cb6",
   "metadata": {},
   "source": [
    "`jupyter` notebooks allow us to look at the `pandas` table in a nice way, just by having the output of a _cell_ be a `pandas` table:"
   ]
  },
  {
   "cell_type": "code",
   "execution_count": 16,
   "id": "1635c467-33b9-4312-8a43-641900e2294c",
   "metadata": {},
   "outputs": [
    {
     "data": {
      "text/html": [
       "<div>\n",
       "<style scoped>\n",
       "    .dataframe tbody tr th:only-of-type {\n",
       "        vertical-align: middle;\n",
       "    }\n",
       "\n",
       "    .dataframe tbody tr th {\n",
       "        vertical-align: top;\n",
       "    }\n",
       "\n",
       "    .dataframe thead th {\n",
       "        text-align: right;\n",
       "    }\n",
       "</style>\n",
       "<table border=\"1\" class=\"dataframe\">\n",
       "  <thead>\n",
       "    <tr style=\"text-align: right;\">\n",
       "      <th></th>\n",
       "      <th>country</th>\n",
       "      <th>g77_and_oecd_countries</th>\n",
       "      <th>income_3groups</th>\n",
       "      <th>income_groups</th>\n",
       "      <th>is--country</th>\n",
       "      <th>iso3166_1_alpha2</th>\n",
       "      <th>iso3166_1_alpha3</th>\n",
       "      <th>iso3166_1_numeric</th>\n",
       "      <th>iso3166_2</th>\n",
       "      <th>landlocked</th>\n",
       "      <th>...</th>\n",
       "      <th>name</th>\n",
       "      <th>un_sdg_ldc</th>\n",
       "      <th>un_sdg_region</th>\n",
       "      <th>un_state</th>\n",
       "      <th>unhcr_region</th>\n",
       "      <th>unicef_region</th>\n",
       "      <th>unicode_region_subtag</th>\n",
       "      <th>west_and_rest</th>\n",
       "      <th>world_4region</th>\n",
       "      <th>world_6region</th>\n",
       "    </tr>\n",
       "  </thead>\n",
       "  <tbody>\n",
       "    <tr>\n",
       "      <th>0</th>\n",
       "      <td>abkh</td>\n",
       "      <td>others</td>\n",
       "      <td>NaN</td>\n",
       "      <td>NaN</td>\n",
       "      <td>True</td>\n",
       "      <td>NaN</td>\n",
       "      <td>NaN</td>\n",
       "      <td>NaN</td>\n",
       "      <td>NaN</td>\n",
       "      <td>NaN</td>\n",
       "      <td>...</td>\n",
       "      <td>Abkhazia</td>\n",
       "      <td>NaN</td>\n",
       "      <td>NaN</td>\n",
       "      <td>False</td>\n",
       "      <td>NaN</td>\n",
       "      <td>NaN</td>\n",
       "      <td>NaN</td>\n",
       "      <td>NaN</td>\n",
       "      <td>europe</td>\n",
       "      <td>europe_central_asia</td>\n",
       "    </tr>\n",
       "    <tr>\n",
       "      <th>1</th>\n",
       "      <td>abw</td>\n",
       "      <td>others</td>\n",
       "      <td>high_income</td>\n",
       "      <td>high_income</td>\n",
       "      <td>True</td>\n",
       "      <td>AW</td>\n",
       "      <td>ABW</td>\n",
       "      <td>533.0</td>\n",
       "      <td>NaN</td>\n",
       "      <td>coastline</td>\n",
       "      <td>...</td>\n",
       "      <td>Aruba</td>\n",
       "      <td>un_not_least_developed</td>\n",
       "      <td>un_latin_america_and_the_caribbean</td>\n",
       "      <td>False</td>\n",
       "      <td>unhcr_americas</td>\n",
       "      <td>NaN</td>\n",
       "      <td>AW</td>\n",
       "      <td>NaN</td>\n",
       "      <td>americas</td>\n",
       "      <td>america</td>\n",
       "    </tr>\n",
       "    <tr>\n",
       "      <th>2</th>\n",
       "      <td>afg</td>\n",
       "      <td>g77</td>\n",
       "      <td>low_income</td>\n",
       "      <td>low_income</td>\n",
       "      <td>True</td>\n",
       "      <td>AF</td>\n",
       "      <td>AFG</td>\n",
       "      <td>4.0</td>\n",
       "      <td>NaN</td>\n",
       "      <td>landlocked</td>\n",
       "      <td>...</td>\n",
       "      <td>Afghanistan</td>\n",
       "      <td>un_least_developed</td>\n",
       "      <td>un_central_and_southern_asia</td>\n",
       "      <td>True</td>\n",
       "      <td>unhcr_asia_pacific</td>\n",
       "      <td>sa</td>\n",
       "      <td>AF</td>\n",
       "      <td>rest</td>\n",
       "      <td>asia</td>\n",
       "      <td>south_asia</td>\n",
       "    </tr>\n",
       "    <tr>\n",
       "      <th>3</th>\n",
       "      <td>ago</td>\n",
       "      <td>g77</td>\n",
       "      <td>middle_income</td>\n",
       "      <td>lower_middle_income</td>\n",
       "      <td>True</td>\n",
       "      <td>AO</td>\n",
       "      <td>AGO</td>\n",
       "      <td>24.0</td>\n",
       "      <td>NaN</td>\n",
       "      <td>coastline</td>\n",
       "      <td>...</td>\n",
       "      <td>Angola</td>\n",
       "      <td>un_least_developed</td>\n",
       "      <td>un_sub_saharan_africa</td>\n",
       "      <td>True</td>\n",
       "      <td>unhcr_southern_africa</td>\n",
       "      <td>ssa</td>\n",
       "      <td>AO</td>\n",
       "      <td>rest</td>\n",
       "      <td>africa</td>\n",
       "      <td>sub_saharan_africa</td>\n",
       "    </tr>\n",
       "    <tr>\n",
       "      <th>4</th>\n",
       "      <td>aia</td>\n",
       "      <td>others</td>\n",
       "      <td>NaN</td>\n",
       "      <td>NaN</td>\n",
       "      <td>True</td>\n",
       "      <td>AI</td>\n",
       "      <td>AIA</td>\n",
       "      <td>660.0</td>\n",
       "      <td>NaN</td>\n",
       "      <td>coastline</td>\n",
       "      <td>...</td>\n",
       "      <td>Anguilla</td>\n",
       "      <td>un_not_least_developed</td>\n",
       "      <td>un_latin_america_and_the_caribbean</td>\n",
       "      <td>False</td>\n",
       "      <td>unhcr_americas</td>\n",
       "      <td>NaN</td>\n",
       "      <td>AI</td>\n",
       "      <td>NaN</td>\n",
       "      <td>americas</td>\n",
       "      <td>america</td>\n",
       "    </tr>\n",
       "    <tr>\n",
       "      <th>...</th>\n",
       "      <td>...</td>\n",
       "      <td>...</td>\n",
       "      <td>...</td>\n",
       "      <td>...</td>\n",
       "      <td>...</td>\n",
       "      <td>...</td>\n",
       "      <td>...</td>\n",
       "      <td>...</td>\n",
       "      <td>...</td>\n",
       "      <td>...</td>\n",
       "      <td>...</td>\n",
       "      <td>...</td>\n",
       "      <td>...</td>\n",
       "      <td>...</td>\n",
       "      <td>...</td>\n",
       "      <td>...</td>\n",
       "      <td>...</td>\n",
       "      <td>...</td>\n",
       "      <td>...</td>\n",
       "      <td>...</td>\n",
       "      <td>...</td>\n",
       "    </tr>\n",
       "    <tr>\n",
       "      <th>268</th>\n",
       "      <td>yem_south</td>\n",
       "      <td>others</td>\n",
       "      <td>NaN</td>\n",
       "      <td>NaN</td>\n",
       "      <td>True</td>\n",
       "      <td>NaN</td>\n",
       "      <td>NaN</td>\n",
       "      <td>NaN</td>\n",
       "      <td>NaN</td>\n",
       "      <td>coastline</td>\n",
       "      <td>...</td>\n",
       "      <td>South Yemen (former)</td>\n",
       "      <td>NaN</td>\n",
       "      <td>NaN</td>\n",
       "      <td>False</td>\n",
       "      <td>NaN</td>\n",
       "      <td>NaN</td>\n",
       "      <td>NaN</td>\n",
       "      <td>NaN</td>\n",
       "      <td>asia</td>\n",
       "      <td>middle_east_north_africa</td>\n",
       "    </tr>\n",
       "    <tr>\n",
       "      <th>269</th>\n",
       "      <td>yug</td>\n",
       "      <td>others</td>\n",
       "      <td>NaN</td>\n",
       "      <td>NaN</td>\n",
       "      <td>True</td>\n",
       "      <td>NaN</td>\n",
       "      <td>NaN</td>\n",
       "      <td>NaN</td>\n",
       "      <td>NaN</td>\n",
       "      <td>coastline</td>\n",
       "      <td>...</td>\n",
       "      <td>Yugoslavia</td>\n",
       "      <td>NaN</td>\n",
       "      <td>NaN</td>\n",
       "      <td>False</td>\n",
       "      <td>NaN</td>\n",
       "      <td>NaN</td>\n",
       "      <td>NaN</td>\n",
       "      <td>NaN</td>\n",
       "      <td>europe</td>\n",
       "      <td>europe_central_asia</td>\n",
       "    </tr>\n",
       "    <tr>\n",
       "      <th>270</th>\n",
       "      <td>zaf</td>\n",
       "      <td>g77</td>\n",
       "      <td>middle_income</td>\n",
       "      <td>upper_middle_income</td>\n",
       "      <td>True</td>\n",
       "      <td>ZA</td>\n",
       "      <td>ZAF</td>\n",
       "      <td>710.0</td>\n",
       "      <td>NaN</td>\n",
       "      <td>coastline</td>\n",
       "      <td>...</td>\n",
       "      <td>South Africa</td>\n",
       "      <td>un_not_least_developed</td>\n",
       "      <td>un_sub_saharan_africa</td>\n",
       "      <td>True</td>\n",
       "      <td>unhcr_southern_africa</td>\n",
       "      <td>ssa</td>\n",
       "      <td>ZA</td>\n",
       "      <td>rest</td>\n",
       "      <td>africa</td>\n",
       "      <td>sub_saharan_africa</td>\n",
       "    </tr>\n",
       "    <tr>\n",
       "      <th>271</th>\n",
       "      <td>zmb</td>\n",
       "      <td>g77</td>\n",
       "      <td>middle_income</td>\n",
       "      <td>lower_middle_income</td>\n",
       "      <td>True</td>\n",
       "      <td>ZM</td>\n",
       "      <td>ZMB</td>\n",
       "      <td>894.0</td>\n",
       "      <td>NaN</td>\n",
       "      <td>landlocked</td>\n",
       "      <td>...</td>\n",
       "      <td>Zambia</td>\n",
       "      <td>un_least_developed</td>\n",
       "      <td>un_sub_saharan_africa</td>\n",
       "      <td>True</td>\n",
       "      <td>unhcr_southern_africa</td>\n",
       "      <td>ssa</td>\n",
       "      <td>ZM</td>\n",
       "      <td>rest</td>\n",
       "      <td>africa</td>\n",
       "      <td>sub_saharan_africa</td>\n",
       "    </tr>\n",
       "    <tr>\n",
       "      <th>272</th>\n",
       "      <td>zwe</td>\n",
       "      <td>g77</td>\n",
       "      <td>middle_income</td>\n",
       "      <td>lower_middle_income</td>\n",
       "      <td>True</td>\n",
       "      <td>ZW</td>\n",
       "      <td>ZWE</td>\n",
       "      <td>716.0</td>\n",
       "      <td>NaN</td>\n",
       "      <td>landlocked</td>\n",
       "      <td>...</td>\n",
       "      <td>Zimbabwe</td>\n",
       "      <td>un_not_least_developed</td>\n",
       "      <td>un_sub_saharan_africa</td>\n",
       "      <td>True</td>\n",
       "      <td>unhcr_southern_africa</td>\n",
       "      <td>ssa</td>\n",
       "      <td>ZW</td>\n",
       "      <td>rest</td>\n",
       "      <td>africa</td>\n",
       "      <td>sub_saharan_africa</td>\n",
       "    </tr>\n",
       "  </tbody>\n",
       "</table>\n",
       "<p>273 rows × 23 columns</p>\n",
       "</div>"
      ],
      "text/plain": [
       "       country g77_and_oecd_countries income_3groups        income_groups  \\\n",
       "0         abkh                 others            NaN                  NaN   \n",
       "1          abw                 others    high_income          high_income   \n",
       "2          afg                    g77     low_income           low_income   \n",
       "3          ago                    g77  middle_income  lower_middle_income   \n",
       "4          aia                 others            NaN                  NaN   \n",
       "..         ...                    ...            ...                  ...   \n",
       "268  yem_south                 others            NaN                  NaN   \n",
       "269        yug                 others            NaN                  NaN   \n",
       "270        zaf                    g77  middle_income  upper_middle_income   \n",
       "271        zmb                    g77  middle_income  lower_middle_income   \n",
       "272        zwe                    g77  middle_income  lower_middle_income   \n",
       "\n",
       "     is--country iso3166_1_alpha2 iso3166_1_alpha3  iso3166_1_numeric  \\\n",
       "0           True              NaN              NaN                NaN   \n",
       "1           True               AW              ABW              533.0   \n",
       "2           True               AF              AFG                4.0   \n",
       "3           True               AO              AGO               24.0   \n",
       "4           True               AI              AIA              660.0   \n",
       "..           ...              ...              ...                ...   \n",
       "268         True              NaN              NaN                NaN   \n",
       "269         True              NaN              NaN                NaN   \n",
       "270         True               ZA              ZAF              710.0   \n",
       "271         True               ZM              ZMB              894.0   \n",
       "272         True               ZW              ZWE              716.0   \n",
       "\n",
       "    iso3166_2  landlocked  ...                  name              un_sdg_ldc  \\\n",
       "0         NaN         NaN  ...              Abkhazia                     NaN   \n",
       "1         NaN   coastline  ...                 Aruba  un_not_least_developed   \n",
       "2         NaN  landlocked  ...           Afghanistan      un_least_developed   \n",
       "3         NaN   coastline  ...                Angola      un_least_developed   \n",
       "4         NaN   coastline  ...              Anguilla  un_not_least_developed   \n",
       "..        ...         ...  ...                   ...                     ...   \n",
       "268       NaN   coastline  ...  South Yemen (former)                     NaN   \n",
       "269       NaN   coastline  ...            Yugoslavia                     NaN   \n",
       "270       NaN   coastline  ...          South Africa  un_not_least_developed   \n",
       "271       NaN  landlocked  ...                Zambia      un_least_developed   \n",
       "272       NaN  landlocked  ...              Zimbabwe  un_not_least_developed   \n",
       "\n",
       "                          un_sdg_region un_state           unhcr_region  \\\n",
       "0                                   NaN    False                    NaN   \n",
       "1    un_latin_america_and_the_caribbean    False         unhcr_americas   \n",
       "2          un_central_and_southern_asia     True     unhcr_asia_pacific   \n",
       "3                 un_sub_saharan_africa     True  unhcr_southern_africa   \n",
       "4    un_latin_america_and_the_caribbean    False         unhcr_americas   \n",
       "..                                  ...      ...                    ...   \n",
       "268                                 NaN    False                    NaN   \n",
       "269                                 NaN    False                    NaN   \n",
       "270               un_sub_saharan_africa     True  unhcr_southern_africa   \n",
       "271               un_sub_saharan_africa     True  unhcr_southern_africa   \n",
       "272               un_sub_saharan_africa     True  unhcr_southern_africa   \n",
       "\n",
       "    unicef_region  unicode_region_subtag west_and_rest world_4region  \\\n",
       "0             NaN                    NaN           NaN        europe   \n",
       "1             NaN                     AW           NaN      americas   \n",
       "2              sa                     AF          rest          asia   \n",
       "3             ssa                     AO          rest        africa   \n",
       "4             NaN                     AI           NaN      americas   \n",
       "..            ...                    ...           ...           ...   \n",
       "268           NaN                    NaN           NaN          asia   \n",
       "269           NaN                    NaN           NaN        europe   \n",
       "270           ssa                     ZA          rest        africa   \n",
       "271           ssa                     ZM          rest        africa   \n",
       "272           ssa                     ZW          rest        africa   \n",
       "\n",
       "                world_6region  \n",
       "0         europe_central_asia  \n",
       "1                     america  \n",
       "2                  south_asia  \n",
       "3          sub_saharan_africa  \n",
       "4                     america  \n",
       "..                        ...  \n",
       "268  middle_east_north_africa  \n",
       "269       europe_central_asia  \n",
       "270        sub_saharan_africa  \n",
       "271        sub_saharan_africa  \n",
       "272        sub_saharan_africa  \n",
       "\n",
       "[273 rows x 23 columns]"
      ]
     },
     "execution_count": 16,
     "metadata": {},
     "output_type": "execute_result"
    }
   ],
   "source": [
    "countries"
   ]
  },
  {
   "cell_type": "markdown",
   "id": "a8803a72-48ca-4c8b-a7ba-f470750f4638",
   "metadata": {},
   "source": [
    "Or `pandas` series:"
   ]
  },
  {
   "cell_type": "code",
   "execution_count": 19,
   "id": "e0cd64fe-1e88-4bcc-b86f-b5616aae58f3",
   "metadata": {},
   "outputs": [
    {
     "data": {
      "text/plain": [
       "0           abkh\n",
       "1            abw\n",
       "2            afg\n",
       "3            ago\n",
       "4            aia\n",
       "         ...    \n",
       "268    yem_south\n",
       "269          yug\n",
       "270          zaf\n",
       "271          zmb\n",
       "272          zwe\n",
       "Name: country, Length: 273, dtype: object"
      ]
     },
     "execution_count": 19,
     "metadata": {},
     "output_type": "execute_result"
    }
   ],
   "source": [
    "countries.country"
   ]
  },
  {
   "cell_type": "markdown",
   "id": "8d4240d6-6f4d-4a41-8d05-4f51f6e8099f",
   "metadata": {},
   "source": [
    "Compare this nice table with a regular view for the same list of countries, for example:"
   ]
  },
  {
   "cell_type": "code",
   "execution_count": 18,
   "id": "e75b116f-563a-4865-ab85-3c9e3ba9ea78",
   "metadata": {},
   "outputs": [
    {
     "data": {
      "text/plain": [
       "{0: 'abkh',\n",
       " 1: 'abw',\n",
       " 2: 'afg',\n",
       " 3: 'ago',\n",
       " 4: 'aia',\n",
       " 5: 'akr_a_dhe',\n",
       " 6: 'ala',\n",
       " 7: 'alb',\n",
       " 8: 'and',\n",
       " 9: 'ant',\n",
       " 10: 'are',\n",
       " 11: 'arg',\n",
       " 12: 'arm',\n",
       " 13: 'asm',\n",
       " 14: 'ata',\n",
       " 15: 'atg',\n",
       " 16: 'aus',\n",
       " 17: 'aut',\n",
       " 18: 'aze',\n",
       " 19: 'bdi'}"
      ]
     },
     "execution_count": 18,
     "metadata": {},
     "output_type": "execute_result"
    }
   ],
   "source": [
    "countries.country[:20].to_dict()"
   ]
  },
  {
   "cell_type": "markdown",
   "id": "a3726bcb-e762-4f4a-b9a7-b6b7ffc28438",
   "metadata": {},
   "source": [
    "## 3. Pandas data structure"
   ]
  },
  {
   "cell_type": "markdown",
   "id": "79a00505-a8ea-4ff6-afda-ddbb37295955",
   "metadata": {},
   "source": [
    "What we got above with `pd.read_csv` call is a `pandas` table. Other `read_*` functions will also return a table. We can construct a table from data by calling `pd.DataFrame` function."
   ]
  },
  {
   "cell_type": "markdown",
   "id": "ee49365e-c6e4-45e1-a768-5eae1a1d5487",
   "metadata": {},
   "source": [
    "`pandas` tables are column-oriented: columns usually mean variables and rows—observations.\n",
    "\n",
    "Some operations throughout `pandas` can be done either by rows or by columns. Such operations will ask for parameter `axis`, and for it `0`=`rows` and `1`=`columns`\n",
    "\n",
    "Mnemonic is that `1` is vertical, so it is `columns`"
   ]
  },
  {
   "cell_type": "markdown",
   "id": "c36df041-2624-481b-b3f1-a3e0130a4e2c",
   "metadata": {},
   "source": [
    "Rows and columns have names (or numbers) to address them specifically. For rows this is called `index`, for columns it is just referred to as “columns”"
   ]
  },
  {
   "cell_type": "markdown",
   "id": "139badc4-15ca-4a98-a9e8-79fcf623118c",
   "metadata": {},
   "source": [
    "Let's examine our `countries` table"
   ]
  },
  {
   "cell_type": "markdown",
   "id": "5eb8b699-b0a3-4f5f-a1da-6c040687f1f4",
   "metadata": {},
   "source": [
    "It's dimensions:"
   ]
  },
  {
   "cell_type": "code",
   "execution_count": 20,
   "id": "b0d31dad-7c89-4dc5-959b-b657e5c16d3b",
   "metadata": {},
   "outputs": [
    {
     "data": {
      "text/plain": [
       "(273, 23)"
      ]
     },
     "execution_count": 20,
     "metadata": {},
     "output_type": "execute_result"
    }
   ],
   "source": [
    "countries.shape"
   ]
  },
  {
   "cell_type": "markdown",
   "id": "4a57a783-fb1b-43a9-af8a-2c060c9f7e9f",
   "metadata": {},
   "source": [
    "Number of rows (remember, `0`=`rows`)"
   ]
  },
  {
   "cell_type": "code",
   "execution_count": 21,
   "id": "811e6d08-421b-46a0-8d2b-49504a9d7326",
   "metadata": {},
   "outputs": [
    {
     "data": {
      "text/plain": [
       "273"
      ]
     },
     "execution_count": 21,
     "metadata": {},
     "output_type": "execute_result"
    }
   ],
   "source": [
    "countries.shape[0]"
   ]
  },
  {
   "cell_type": "markdown",
   "id": "c7081930-086d-4076-a9ad-a07e1e3ad0bb",
   "metadata": {},
   "source": [
    "Number of columns"
   ]
  },
  {
   "cell_type": "code",
   "execution_count": 22,
   "id": "ced8b523-3b0e-401a-9d7a-f97e809ccbe3",
   "metadata": {},
   "outputs": [
    {
     "data": {
      "text/plain": [
       "23"
      ]
     },
     "execution_count": 22,
     "metadata": {},
     "output_type": "execute_result"
    }
   ],
   "source": [
    "countries.shape[1]"
   ]
  },
  {
   "cell_type": "markdown",
   "id": "374d0d4c-5bf5-4773-ad06-41206036f53e",
   "metadata": {},
   "source": [
    "The `index`:"
   ]
  },
  {
   "cell_type": "code",
   "execution_count": 23,
   "id": "905b2e3b-73a1-4d4a-8f6b-5768bf3183c6",
   "metadata": {},
   "outputs": [
    {
     "data": {
      "text/plain": [
       "RangeIndex(start=0, stop=273, step=1)"
      ]
     },
     "execution_count": 23,
     "metadata": {},
     "output_type": "execute_result"
    }
   ],
   "source": [
    "countries.index"
   ]
  },
  {
   "cell_type": "markdown",
   "id": "98b92e47-fbdf-47e2-9aab-860a894fdc41",
   "metadata": {},
   "source": [
    "The `columns`:"
   ]
  },
  {
   "cell_type": "code",
   "execution_count": 24,
   "id": "88df7110-5036-4137-a9bc-60f5b8aa682a",
   "metadata": {},
   "outputs": [
    {
     "data": {
      "text/plain": [
       "Index(['country', 'g77_and_oecd_countries', 'income_3groups', 'income_groups',\n",
       "       'is--country', 'iso3166_1_alpha2', 'iso3166_1_alpha3',\n",
       "       'iso3166_1_numeric', 'iso3166_2', 'landlocked', 'latitude', 'longitude',\n",
       "       'main_religion_2008', 'name', 'un_sdg_ldc', 'un_sdg_region', 'un_state',\n",
       "       'unhcr_region', 'unicef_region', 'unicode_region_subtag',\n",
       "       'west_and_rest', 'world_4region', 'world_6region'],\n",
       "      dtype='object')"
      ]
     },
     "execution_count": 24,
     "metadata": {},
     "output_type": "execute_result"
    }
   ],
   "source": [
    "countries.columns"
   ]
  },
  {
   "cell_type": "markdown",
   "id": "c462a857-e0e6-4b5a-b0fa-2092e1d8346d",
   "metadata": {},
   "source": [
    "## 3. Pandas Series: one table column"
   ]
  },
  {
   "cell_type": "markdown",
   "id": "9a3d76e1-6106-4ece-b9c4-35add23d77a7",
   "metadata": {},
   "source": [
    "Let's take one column from the table:"
   ]
  },
  {
   "cell_type": "code",
   "execution_count": 26,
   "id": "f94194af-a22d-49a4-977a-9bc3ec770788",
   "metadata": {},
   "outputs": [
    {
     "data": {
      "text/plain": [
       "0           abkh\n",
       "1            abw\n",
       "2            afg\n",
       "3            ago\n",
       "4            aia\n",
       "         ...    \n",
       "268    yem_south\n",
       "269          yug\n",
       "270          zaf\n",
       "271          zmb\n",
       "272          zwe\n",
       "Name: country, Length: 273, dtype: object"
      ]
     },
     "execution_count": 26,
     "metadata": {},
     "output_type": "execute_result"
    }
   ],
   "source": [
    "countries[\"country\"]"
   ]
  },
  {
   "cell_type": "code",
   "execution_count": null,
   "id": "9ce94433-bd11-4286-ad99-241783559beb",
   "metadata": {},
   "outputs": [],
   "source": []
  }
 ],
 "metadata": {
  "kernelspec": {
   "display_name": "Python 3 (ipykernel)",
   "language": "python",
   "name": "python3"
  },
  "language_info": {
   "codemirror_mode": {
    "name": "ipython",
    "version": 3
   },
   "file_extension": ".py",
   "mimetype": "text/x-python",
   "name": "python",
   "nbconvert_exporter": "python",
   "pygments_lexer": "ipython3",
   "version": "3.9.6"
  }
 },
 "nbformat": 4,
 "nbformat_minor": 5
}
