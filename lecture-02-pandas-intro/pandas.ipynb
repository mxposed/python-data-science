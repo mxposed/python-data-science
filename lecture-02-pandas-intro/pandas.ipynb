{
 "cells": [
  {
   "cell_type": "markdown",
   "id": "fb648b74-1101-416a-92cf-2cc6b124c5d2",
   "metadata": {},
   "source": [
    "# Basic pandas structure and data selection"
   ]
  },
  {
   "cell_type": "markdown",
   "id": "ef26d1e0-200c-4f1c-b60b-b2edea8d02bc",
   "metadata": {},
   "source": [
    "## 1. About the notebook"
   ]
  },
  {
   "cell_type": "markdown",
   "id": "4f66a031-921d-4d54-b415-205fc0cb51ce",
   "metadata": {},
   "source": [
    "This is a `jupyter` notebook, here you can combine text with formatting, python code and its output like tables or figures in one document.\n",
    "\n",
    "Notebooks consist of _cells_ which can be either `code` or `text` (with markdown formatting)"
   ]
  },
  {
   "cell_type": "markdown",
   "id": "c26f4a71-dc56-4fbe-ad9c-561a1e65b1fb",
   "metadata": {},
   "source": [
    "This is `text` _cell_, above are more `text` _cells_, below is a `code` _cell_"
   ]
  },
  {
   "cell_type": "code",
   "execution_count": 1,
   "id": "ca6ed5dc-3937-4f89-8886-2773567d91f1",
   "metadata": {},
   "outputs": [],
   "source": [
    "import pandas as pd"
   ]
  },
  {
   "cell_type": "markdown",
   "id": "4e811619-2c4a-4117-a5ac-d3eb5c04c627",
   "metadata": {},
   "source": [
    "You can recognize it by monospace font and the square brackets in front: `[1]`\n",
    "\n",
    "To run a `code` _cell_, press the ▶ button at the top, or hit Shift+Enter, or Ctrl+Enter, or Alt+Enter"
   ]
  },
  {
   "cell_type": "markdown",
   "id": "6049e1f8-76ec-4326-ba3a-59e4cf105955",
   "metadata": {},
   "source": [
    "If a `code` _cell_ has an output, it will be displayed below the _cell_, like here:"
   ]
  },
  {
   "cell_type": "code",
   "execution_count": 2,
   "id": "7f38cc50-df80-4d87-96e9-502346fc2921",
   "metadata": {},
   "outputs": [
    {
     "name": "stdout",
     "output_type": "stream",
     "text": [
      "This is output\n"
     ]
    }
   ],
   "source": [
    "print(\"This is output\")"
   ]
  },
  {
   "cell_type": "markdown",
   "id": "984addae-e92c-45e3-97b4-f4c9e2fc5414",
   "metadata": {},
   "source": [
    "This _cell_ will have output too:"
   ]
  },
  {
   "cell_type": "code",
   "execution_count": 3,
   "id": "f5db662d-c3c1-4d0e-a404-2207808db4d4",
   "metadata": {},
   "outputs": [
    {
     "data": {
      "text/plain": [
       "10"
      ]
     },
     "execution_count": 3,
     "metadata": {},
     "output_type": "execute_result"
    }
   ],
   "source": [
    "1 + 9"
   ]
  },
  {
   "cell_type": "markdown",
   "id": "fcab2ba1-c2cd-40b3-ab44-b55435007d81",
   "metadata": {},
   "source": [
    "Two very handy parts of `jupyter` notebooks are:\n",
    "* code completion\n",
    "* quick documentation"
   ]
  },
  {
   "cell_type": "markdown",
   "id": "19ba037d-fc56-4c0c-8f4c-3553dbe33d20",
   "metadata": {},
   "source": [
    "For code completion, start writing code and hit Tab, like here:"
   ]
  },
  {
   "cell_type": "code",
   "execution_count": null,
   "id": "0b23dd5c-4f60-40a7-9ac8-381b6940779a",
   "metadata": {},
   "outputs": [],
   "source": [
    "pd."
   ]
  },
  {
   "cell_type": "markdown",
   "id": "c9b78128-78d3-4d5d-b561-77fb4ead04f9",
   "metadata": {},
   "source": [
    "For quick documentation, place your cursor in the code section on a function, and hit Shift-Tab, like here:"
   ]
  },
  {
   "cell_type": "code",
   "execution_count": null,
   "id": "2b4c451b-dcb5-4de9-a1f2-9694c8c30984",
   "metadata": {},
   "outputs": [],
   "source": [
    "pd.read_csv"
   ]
  },
  {
   "cell_type": "markdown",
   "id": "966a489d-4975-461a-a58f-34e458df4112",
   "metadata": {},
   "source": [
    "You can add new _cells_ quickly by pressing `A` for Above or `B` for Below current _cell_"
   ]
  },
  {
   "cell_type": "markdown",
   "id": "38f196e1-0179-403c-858d-c18948254579",
   "metadata": {},
   "source": [
    "You can switch between typing inside the _cell_ vs moving around _cells_ and invoking commands by pressing `Esc`/`Enter`"
   ]
  },
  {
   "cell_type": "markdown",
   "id": "c98c4e4a-e114-4686-953a-7e8dbc5ef84d",
   "metadata": {},
   "source": [
    "## 2. Getting data"
   ]
  },
  {
   "cell_type": "markdown",
   "id": "e6e7c9ad-c6f3-4ac7-ac4d-1301c810d638",
   "metadata": {},
   "source": [
    "We'll be using free data via gapminder.org [repository](https://github.com/open-numbers/ddf--gapminder--systema_globalis), CC-BY LICENSE for this exercise. \n",
    "\n",
    "Let's load the data its storage on github: two tables, with information about world's countries:"
   ]
  },
  {
   "cell_type": "code",
   "execution_count": 4,
   "id": "9f1b9403-2d61-4bd4-8b6a-382eabefe0d4",
   "metadata": {},
   "outputs": [],
   "source": [
    "countries = pd.read_csv(\n",
    "    \"https://raw.githubusercontent.com/open-numbers/ddf--gapminder--systema_globalis\"\n",
    "    \"/master/ddf--entities--geo--country.csv\"\n",
    ")"
   ]
  },
  {
   "cell_type": "markdown",
   "id": "03c3844d-eb91-4813-b780-d01f9b248cb6",
   "metadata": {},
   "source": [
    "`jupyter` notebooks allow us to look at the `pandas` table in a nice way, just by having the output of a _cell_ be a `pandas` table:"
   ]
  },
  {
   "cell_type": "code",
   "execution_count": 5,
   "id": "1635c467-33b9-4312-8a43-641900e2294c",
   "metadata": {},
   "outputs": [
    {
     "data": {
      "text/html": [
       "<div>\n",
       "<style scoped>\n",
       "    .dataframe tbody tr th:only-of-type {\n",
       "        vertical-align: middle;\n",
       "    }\n",
       "\n",
       "    .dataframe tbody tr th {\n",
       "        vertical-align: top;\n",
       "    }\n",
       "\n",
       "    .dataframe thead th {\n",
       "        text-align: right;\n",
       "    }\n",
       "</style>\n",
       "<table border=\"1\" class=\"dataframe\">\n",
       "  <thead>\n",
       "    <tr style=\"text-align: right;\">\n",
       "      <th></th>\n",
       "      <th>country</th>\n",
       "      <th>g77_and_oecd_countries</th>\n",
       "      <th>income_3groups</th>\n",
       "      <th>income_groups</th>\n",
       "      <th>is--country</th>\n",
       "      <th>iso3166_1_alpha2</th>\n",
       "      <th>iso3166_1_alpha3</th>\n",
       "      <th>iso3166_1_numeric</th>\n",
       "      <th>iso3166_2</th>\n",
       "      <th>landlocked</th>\n",
       "      <th>...</th>\n",
       "      <th>name</th>\n",
       "      <th>un_sdg_ldc</th>\n",
       "      <th>un_sdg_region</th>\n",
       "      <th>un_state</th>\n",
       "      <th>unhcr_region</th>\n",
       "      <th>unicef_region</th>\n",
       "      <th>unicode_region_subtag</th>\n",
       "      <th>west_and_rest</th>\n",
       "      <th>world_4region</th>\n",
       "      <th>world_6region</th>\n",
       "    </tr>\n",
       "  </thead>\n",
       "  <tbody>\n",
       "    <tr>\n",
       "      <th>0</th>\n",
       "      <td>abkh</td>\n",
       "      <td>others</td>\n",
       "      <td>NaN</td>\n",
       "      <td>NaN</td>\n",
       "      <td>True</td>\n",
       "      <td>NaN</td>\n",
       "      <td>NaN</td>\n",
       "      <td>NaN</td>\n",
       "      <td>NaN</td>\n",
       "      <td>NaN</td>\n",
       "      <td>...</td>\n",
       "      <td>Abkhazia</td>\n",
       "      <td>NaN</td>\n",
       "      <td>NaN</td>\n",
       "      <td>False</td>\n",
       "      <td>NaN</td>\n",
       "      <td>NaN</td>\n",
       "      <td>NaN</td>\n",
       "      <td>NaN</td>\n",
       "      <td>europe</td>\n",
       "      <td>europe_central_asia</td>\n",
       "    </tr>\n",
       "    <tr>\n",
       "      <th>1</th>\n",
       "      <td>abw</td>\n",
       "      <td>others</td>\n",
       "      <td>high_income</td>\n",
       "      <td>high_income</td>\n",
       "      <td>True</td>\n",
       "      <td>AW</td>\n",
       "      <td>ABW</td>\n",
       "      <td>533.0</td>\n",
       "      <td>NaN</td>\n",
       "      <td>coastline</td>\n",
       "      <td>...</td>\n",
       "      <td>Aruba</td>\n",
       "      <td>un_not_least_developed</td>\n",
       "      <td>un_latin_america_and_the_caribbean</td>\n",
       "      <td>False</td>\n",
       "      <td>unhcr_americas</td>\n",
       "      <td>NaN</td>\n",
       "      <td>AW</td>\n",
       "      <td>NaN</td>\n",
       "      <td>americas</td>\n",
       "      <td>america</td>\n",
       "    </tr>\n",
       "    <tr>\n",
       "      <th>2</th>\n",
       "      <td>afg</td>\n",
       "      <td>g77</td>\n",
       "      <td>low_income</td>\n",
       "      <td>low_income</td>\n",
       "      <td>True</td>\n",
       "      <td>AF</td>\n",
       "      <td>AFG</td>\n",
       "      <td>4.0</td>\n",
       "      <td>NaN</td>\n",
       "      <td>landlocked</td>\n",
       "      <td>...</td>\n",
       "      <td>Afghanistan</td>\n",
       "      <td>un_least_developed</td>\n",
       "      <td>un_central_and_southern_asia</td>\n",
       "      <td>True</td>\n",
       "      <td>unhcr_asia_pacific</td>\n",
       "      <td>sa</td>\n",
       "      <td>AF</td>\n",
       "      <td>rest</td>\n",
       "      <td>asia</td>\n",
       "      <td>south_asia</td>\n",
       "    </tr>\n",
       "    <tr>\n",
       "      <th>3</th>\n",
       "      <td>ago</td>\n",
       "      <td>g77</td>\n",
       "      <td>middle_income</td>\n",
       "      <td>lower_middle_income</td>\n",
       "      <td>True</td>\n",
       "      <td>AO</td>\n",
       "      <td>AGO</td>\n",
       "      <td>24.0</td>\n",
       "      <td>NaN</td>\n",
       "      <td>coastline</td>\n",
       "      <td>...</td>\n",
       "      <td>Angola</td>\n",
       "      <td>un_least_developed</td>\n",
       "      <td>un_sub_saharan_africa</td>\n",
       "      <td>True</td>\n",
       "      <td>unhcr_southern_africa</td>\n",
       "      <td>ssa</td>\n",
       "      <td>AO</td>\n",
       "      <td>rest</td>\n",
       "      <td>africa</td>\n",
       "      <td>sub_saharan_africa</td>\n",
       "    </tr>\n",
       "    <tr>\n",
       "      <th>4</th>\n",
       "      <td>aia</td>\n",
       "      <td>others</td>\n",
       "      <td>NaN</td>\n",
       "      <td>NaN</td>\n",
       "      <td>True</td>\n",
       "      <td>AI</td>\n",
       "      <td>AIA</td>\n",
       "      <td>660.0</td>\n",
       "      <td>NaN</td>\n",
       "      <td>coastline</td>\n",
       "      <td>...</td>\n",
       "      <td>Anguilla</td>\n",
       "      <td>un_not_least_developed</td>\n",
       "      <td>un_latin_america_and_the_caribbean</td>\n",
       "      <td>False</td>\n",
       "      <td>unhcr_americas</td>\n",
       "      <td>NaN</td>\n",
       "      <td>AI</td>\n",
       "      <td>NaN</td>\n",
       "      <td>americas</td>\n",
       "      <td>america</td>\n",
       "    </tr>\n",
       "    <tr>\n",
       "      <th>...</th>\n",
       "      <td>...</td>\n",
       "      <td>...</td>\n",
       "      <td>...</td>\n",
       "      <td>...</td>\n",
       "      <td>...</td>\n",
       "      <td>...</td>\n",
       "      <td>...</td>\n",
       "      <td>...</td>\n",
       "      <td>...</td>\n",
       "      <td>...</td>\n",
       "      <td>...</td>\n",
       "      <td>...</td>\n",
       "      <td>...</td>\n",
       "      <td>...</td>\n",
       "      <td>...</td>\n",
       "      <td>...</td>\n",
       "      <td>...</td>\n",
       "      <td>...</td>\n",
       "      <td>...</td>\n",
       "      <td>...</td>\n",
       "      <td>...</td>\n",
       "    </tr>\n",
       "    <tr>\n",
       "      <th>268</th>\n",
       "      <td>yem_south</td>\n",
       "      <td>others</td>\n",
       "      <td>NaN</td>\n",
       "      <td>NaN</td>\n",
       "      <td>True</td>\n",
       "      <td>NaN</td>\n",
       "      <td>NaN</td>\n",
       "      <td>NaN</td>\n",
       "      <td>NaN</td>\n",
       "      <td>coastline</td>\n",
       "      <td>...</td>\n",
       "      <td>South Yemen (former)</td>\n",
       "      <td>NaN</td>\n",
       "      <td>NaN</td>\n",
       "      <td>False</td>\n",
       "      <td>NaN</td>\n",
       "      <td>NaN</td>\n",
       "      <td>NaN</td>\n",
       "      <td>NaN</td>\n",
       "      <td>asia</td>\n",
       "      <td>middle_east_north_africa</td>\n",
       "    </tr>\n",
       "    <tr>\n",
       "      <th>269</th>\n",
       "      <td>yug</td>\n",
       "      <td>others</td>\n",
       "      <td>NaN</td>\n",
       "      <td>NaN</td>\n",
       "      <td>True</td>\n",
       "      <td>NaN</td>\n",
       "      <td>NaN</td>\n",
       "      <td>NaN</td>\n",
       "      <td>NaN</td>\n",
       "      <td>coastline</td>\n",
       "      <td>...</td>\n",
       "      <td>Yugoslavia</td>\n",
       "      <td>NaN</td>\n",
       "      <td>NaN</td>\n",
       "      <td>False</td>\n",
       "      <td>NaN</td>\n",
       "      <td>NaN</td>\n",
       "      <td>NaN</td>\n",
       "      <td>NaN</td>\n",
       "      <td>europe</td>\n",
       "      <td>europe_central_asia</td>\n",
       "    </tr>\n",
       "    <tr>\n",
       "      <th>270</th>\n",
       "      <td>zaf</td>\n",
       "      <td>g77</td>\n",
       "      <td>middle_income</td>\n",
       "      <td>upper_middle_income</td>\n",
       "      <td>True</td>\n",
       "      <td>ZA</td>\n",
       "      <td>ZAF</td>\n",
       "      <td>710.0</td>\n",
       "      <td>NaN</td>\n",
       "      <td>coastline</td>\n",
       "      <td>...</td>\n",
       "      <td>South Africa</td>\n",
       "      <td>un_not_least_developed</td>\n",
       "      <td>un_sub_saharan_africa</td>\n",
       "      <td>True</td>\n",
       "      <td>unhcr_southern_africa</td>\n",
       "      <td>ssa</td>\n",
       "      <td>ZA</td>\n",
       "      <td>rest</td>\n",
       "      <td>africa</td>\n",
       "      <td>sub_saharan_africa</td>\n",
       "    </tr>\n",
       "    <tr>\n",
       "      <th>271</th>\n",
       "      <td>zmb</td>\n",
       "      <td>g77</td>\n",
       "      <td>middle_income</td>\n",
       "      <td>lower_middle_income</td>\n",
       "      <td>True</td>\n",
       "      <td>ZM</td>\n",
       "      <td>ZMB</td>\n",
       "      <td>894.0</td>\n",
       "      <td>NaN</td>\n",
       "      <td>landlocked</td>\n",
       "      <td>...</td>\n",
       "      <td>Zambia</td>\n",
       "      <td>un_least_developed</td>\n",
       "      <td>un_sub_saharan_africa</td>\n",
       "      <td>True</td>\n",
       "      <td>unhcr_southern_africa</td>\n",
       "      <td>ssa</td>\n",
       "      <td>ZM</td>\n",
       "      <td>rest</td>\n",
       "      <td>africa</td>\n",
       "      <td>sub_saharan_africa</td>\n",
       "    </tr>\n",
       "    <tr>\n",
       "      <th>272</th>\n",
       "      <td>zwe</td>\n",
       "      <td>g77</td>\n",
       "      <td>middle_income</td>\n",
       "      <td>lower_middle_income</td>\n",
       "      <td>True</td>\n",
       "      <td>ZW</td>\n",
       "      <td>ZWE</td>\n",
       "      <td>716.0</td>\n",
       "      <td>NaN</td>\n",
       "      <td>landlocked</td>\n",
       "      <td>...</td>\n",
       "      <td>Zimbabwe</td>\n",
       "      <td>un_not_least_developed</td>\n",
       "      <td>un_sub_saharan_africa</td>\n",
       "      <td>True</td>\n",
       "      <td>unhcr_southern_africa</td>\n",
       "      <td>ssa</td>\n",
       "      <td>ZW</td>\n",
       "      <td>rest</td>\n",
       "      <td>africa</td>\n",
       "      <td>sub_saharan_africa</td>\n",
       "    </tr>\n",
       "  </tbody>\n",
       "</table>\n",
       "<p>273 rows × 23 columns</p>\n",
       "</div>"
      ],
      "text/plain": [
       "       country g77_and_oecd_countries income_3groups        income_groups  \\\n",
       "0         abkh                 others            NaN                  NaN   \n",
       "1          abw                 others    high_income          high_income   \n",
       "2          afg                    g77     low_income           low_income   \n",
       "3          ago                    g77  middle_income  lower_middle_income   \n",
       "4          aia                 others            NaN                  NaN   \n",
       "..         ...                    ...            ...                  ...   \n",
       "268  yem_south                 others            NaN                  NaN   \n",
       "269        yug                 others            NaN                  NaN   \n",
       "270        zaf                    g77  middle_income  upper_middle_income   \n",
       "271        zmb                    g77  middle_income  lower_middle_income   \n",
       "272        zwe                    g77  middle_income  lower_middle_income   \n",
       "\n",
       "     is--country iso3166_1_alpha2 iso3166_1_alpha3  iso3166_1_numeric  \\\n",
       "0           True              NaN              NaN                NaN   \n",
       "1           True               AW              ABW              533.0   \n",
       "2           True               AF              AFG                4.0   \n",
       "3           True               AO              AGO               24.0   \n",
       "4           True               AI              AIA              660.0   \n",
       "..           ...              ...              ...                ...   \n",
       "268         True              NaN              NaN                NaN   \n",
       "269         True              NaN              NaN                NaN   \n",
       "270         True               ZA              ZAF              710.0   \n",
       "271         True               ZM              ZMB              894.0   \n",
       "272         True               ZW              ZWE              716.0   \n",
       "\n",
       "    iso3166_2  landlocked  ...                  name              un_sdg_ldc  \\\n",
       "0         NaN         NaN  ...              Abkhazia                     NaN   \n",
       "1         NaN   coastline  ...                 Aruba  un_not_least_developed   \n",
       "2         NaN  landlocked  ...           Afghanistan      un_least_developed   \n",
       "3         NaN   coastline  ...                Angola      un_least_developed   \n",
       "4         NaN   coastline  ...              Anguilla  un_not_least_developed   \n",
       "..        ...         ...  ...                   ...                     ...   \n",
       "268       NaN   coastline  ...  South Yemen (former)                     NaN   \n",
       "269       NaN   coastline  ...            Yugoslavia                     NaN   \n",
       "270       NaN   coastline  ...          South Africa  un_not_least_developed   \n",
       "271       NaN  landlocked  ...                Zambia      un_least_developed   \n",
       "272       NaN  landlocked  ...              Zimbabwe  un_not_least_developed   \n",
       "\n",
       "                          un_sdg_region un_state           unhcr_region  \\\n",
       "0                                   NaN    False                    NaN   \n",
       "1    un_latin_america_and_the_caribbean    False         unhcr_americas   \n",
       "2          un_central_and_southern_asia     True     unhcr_asia_pacific   \n",
       "3                 un_sub_saharan_africa     True  unhcr_southern_africa   \n",
       "4    un_latin_america_and_the_caribbean    False         unhcr_americas   \n",
       "..                                  ...      ...                    ...   \n",
       "268                                 NaN    False                    NaN   \n",
       "269                                 NaN    False                    NaN   \n",
       "270               un_sub_saharan_africa     True  unhcr_southern_africa   \n",
       "271               un_sub_saharan_africa     True  unhcr_southern_africa   \n",
       "272               un_sub_saharan_africa     True  unhcr_southern_africa   \n",
       "\n",
       "    unicef_region  unicode_region_subtag west_and_rest world_4region  \\\n",
       "0             NaN                    NaN           NaN        europe   \n",
       "1             NaN                     AW           NaN      americas   \n",
       "2              sa                     AF          rest          asia   \n",
       "3             ssa                     AO          rest        africa   \n",
       "4             NaN                     AI           NaN      americas   \n",
       "..            ...                    ...           ...           ...   \n",
       "268           NaN                    NaN           NaN          asia   \n",
       "269           NaN                    NaN           NaN        europe   \n",
       "270           ssa                     ZA          rest        africa   \n",
       "271           ssa                     ZM          rest        africa   \n",
       "272           ssa                     ZW          rest        africa   \n",
       "\n",
       "                world_6region  \n",
       "0         europe_central_asia  \n",
       "1                     america  \n",
       "2                  south_asia  \n",
       "3          sub_saharan_africa  \n",
       "4                     america  \n",
       "..                        ...  \n",
       "268  middle_east_north_africa  \n",
       "269       europe_central_asia  \n",
       "270        sub_saharan_africa  \n",
       "271        sub_saharan_africa  \n",
       "272        sub_saharan_africa  \n",
       "\n",
       "[273 rows x 23 columns]"
      ]
     },
     "execution_count": 5,
     "metadata": {},
     "output_type": "execute_result"
    }
   ],
   "source": [
    "countries"
   ]
  },
  {
   "cell_type": "markdown",
   "id": "a8803a72-48ca-4c8b-a7ba-f470750f4638",
   "metadata": {},
   "source": [
    "Or `pandas` series:"
   ]
  },
  {
   "cell_type": "code",
   "execution_count": 6,
   "id": "e0cd64fe-1e88-4bcc-b86f-b5616aae58f3",
   "metadata": {},
   "outputs": [
    {
     "data": {
      "text/plain": [
       "0           abkh\n",
       "1            abw\n",
       "2            afg\n",
       "3            ago\n",
       "4            aia\n",
       "         ...    \n",
       "268    yem_south\n",
       "269          yug\n",
       "270          zaf\n",
       "271          zmb\n",
       "272          zwe\n",
       "Name: country, Length: 273, dtype: object"
      ]
     },
     "execution_count": 6,
     "metadata": {},
     "output_type": "execute_result"
    }
   ],
   "source": [
    "countries.country"
   ]
  },
  {
   "cell_type": "markdown",
   "id": "8d4240d6-6f4d-4a41-8d05-4f51f6e8099f",
   "metadata": {},
   "source": [
    "Compare this nice table with a regular view for the same list of countries, for example:"
   ]
  },
  {
   "cell_type": "code",
   "execution_count": 7,
   "id": "e75b116f-563a-4865-ab85-3c9e3ba9ea78",
   "metadata": {},
   "outputs": [
    {
     "data": {
      "text/plain": [
       "{0: 'abkh',\n",
       " 1: 'abw',\n",
       " 2: 'afg',\n",
       " 3: 'ago',\n",
       " 4: 'aia',\n",
       " 5: 'akr_a_dhe',\n",
       " 6: 'ala',\n",
       " 7: 'alb',\n",
       " 8: 'and',\n",
       " 9: 'ant',\n",
       " 10: 'are',\n",
       " 11: 'arg',\n",
       " 12: 'arm',\n",
       " 13: 'asm',\n",
       " 14: 'ata',\n",
       " 15: 'atg',\n",
       " 16: 'aus',\n",
       " 17: 'aut',\n",
       " 18: 'aze',\n",
       " 19: 'bdi'}"
      ]
     },
     "execution_count": 7,
     "metadata": {},
     "output_type": "execute_result"
    }
   ],
   "source": [
    "countries.country[:20].to_dict()"
   ]
  },
  {
   "cell_type": "markdown",
   "id": "a3726bcb-e762-4f4a-b9a7-b6b7ffc28438",
   "metadata": {},
   "source": [
    "## 3. Pandas data structure"
   ]
  },
  {
   "cell_type": "markdown",
   "id": "79a00505-a8ea-4ff6-afda-ddbb37295955",
   "metadata": {},
   "source": [
    "What we got above with `pd.read_csv` call is a `pandas` table. Other `read_*` functions will also return a table. We can construct a table from data by calling `pd.DataFrame` function."
   ]
  },
  {
   "cell_type": "markdown",
   "id": "ee49365e-c6e4-45e1-a768-5eae1a1d5487",
   "metadata": {},
   "source": [
    "`pandas` tables are column-oriented: columns usually mean variables and rows—observations.\n",
    "\n",
    "Some operations throughout `pandas` can be done either by rows or by columns. Such operations will ask for parameter `axis`, and for it `0`=`rows` and `1`=`columns`\n",
    "\n",
    "Mnemonic is that `1` is vertical, so it is `columns`"
   ]
  },
  {
   "cell_type": "markdown",
   "id": "c36df041-2624-481b-b3f1-a3e0130a4e2c",
   "metadata": {},
   "source": [
    "Rows and columns have names (or numbers) to address them specifically. For rows this is called `index`, for columns it is just referred to as “columns”"
   ]
  },
  {
   "cell_type": "markdown",
   "id": "139badc4-15ca-4a98-a9e8-79fcf623118c",
   "metadata": {},
   "source": [
    "Let's examine our `countries` table"
   ]
  },
  {
   "cell_type": "markdown",
   "id": "5eb8b699-b0a3-4f5f-a1da-6c040687f1f4",
   "metadata": {},
   "source": [
    "It's dimensions:"
   ]
  },
  {
   "cell_type": "code",
   "execution_count": 8,
   "id": "b0d31dad-7c89-4dc5-959b-b657e5c16d3b",
   "metadata": {},
   "outputs": [
    {
     "data": {
      "text/plain": [
       "(273, 23)"
      ]
     },
     "execution_count": 8,
     "metadata": {},
     "output_type": "execute_result"
    }
   ],
   "source": [
    "countries.shape"
   ]
  },
  {
   "cell_type": "markdown",
   "id": "4a57a783-fb1b-43a9-af8a-2c060c9f7e9f",
   "metadata": {},
   "source": [
    "Number of rows (remember, `0`=`rows`)"
   ]
  },
  {
   "cell_type": "code",
   "execution_count": 9,
   "id": "811e6d08-421b-46a0-8d2b-49504a9d7326",
   "metadata": {},
   "outputs": [
    {
     "data": {
      "text/plain": [
       "273"
      ]
     },
     "execution_count": 9,
     "metadata": {},
     "output_type": "execute_result"
    }
   ],
   "source": [
    "countries.shape[0]"
   ]
  },
  {
   "cell_type": "markdown",
   "id": "c7081930-086d-4076-a9ad-a07e1e3ad0bb",
   "metadata": {},
   "source": [
    "Number of columns"
   ]
  },
  {
   "cell_type": "code",
   "execution_count": 10,
   "id": "ced8b523-3b0e-401a-9d7a-f97e809ccbe3",
   "metadata": {},
   "outputs": [
    {
     "data": {
      "text/plain": [
       "23"
      ]
     },
     "execution_count": 10,
     "metadata": {},
     "output_type": "execute_result"
    }
   ],
   "source": [
    "countries.shape[1]"
   ]
  },
  {
   "cell_type": "markdown",
   "id": "374d0d4c-5bf5-4773-ad06-41206036f53e",
   "metadata": {},
   "source": [
    "The `index`:"
   ]
  },
  {
   "cell_type": "code",
   "execution_count": 11,
   "id": "905b2e3b-73a1-4d4a-8f6b-5768bf3183c6",
   "metadata": {},
   "outputs": [
    {
     "data": {
      "text/plain": [
       "RangeIndex(start=0, stop=273, step=1)"
      ]
     },
     "execution_count": 11,
     "metadata": {},
     "output_type": "execute_result"
    }
   ],
   "source": [
    "countries.index"
   ]
  },
  {
   "cell_type": "markdown",
   "id": "98b92e47-fbdf-47e2-9aab-860a894fdc41",
   "metadata": {},
   "source": [
    "The `columns`:"
   ]
  },
  {
   "cell_type": "code",
   "execution_count": 12,
   "id": "88df7110-5036-4137-a9bc-60f5b8aa682a",
   "metadata": {},
   "outputs": [
    {
     "data": {
      "text/plain": [
       "Index(['country', 'g77_and_oecd_countries', 'income_3groups', 'income_groups',\n",
       "       'is--country', 'iso3166_1_alpha2', 'iso3166_1_alpha3',\n",
       "       'iso3166_1_numeric', 'iso3166_2', 'landlocked', 'latitude', 'longitude',\n",
       "       'main_religion_2008', 'name', 'un_sdg_ldc', 'un_sdg_region', 'un_state',\n",
       "       'unhcr_region', 'unicef_region', 'unicode_region_subtag',\n",
       "       'west_and_rest', 'world_4region', 'world_6region'],\n",
       "      dtype='object')"
      ]
     },
     "execution_count": 12,
     "metadata": {},
     "output_type": "execute_result"
    }
   ],
   "source": [
    "countries.columns"
   ]
  },
  {
   "cell_type": "markdown",
   "id": "c462a857-e0e6-4b5a-b0fa-2092e1d8346d",
   "metadata": {},
   "source": [
    "## 3. Pandas Series: one table column"
   ]
  },
  {
   "cell_type": "markdown",
   "id": "9a3d76e1-6106-4ece-b9c4-35add23d77a7",
   "metadata": {},
   "source": [
    "Let's take one column from the table:"
   ]
  },
  {
   "cell_type": "code",
   "execution_count": 13,
   "id": "f94194af-a22d-49a4-977a-9bc3ec770788",
   "metadata": {},
   "outputs": [
    {
     "data": {
      "text/plain": [
       "0           abkh\n",
       "1            abw\n",
       "2            afg\n",
       "3            ago\n",
       "4            aia\n",
       "         ...    \n",
       "268    yem_south\n",
       "269          yug\n",
       "270          zaf\n",
       "271          zmb\n",
       "272          zwe\n",
       "Name: country, Length: 273, dtype: object"
      ]
     },
     "execution_count": 13,
     "metadata": {},
     "output_type": "execute_result"
    }
   ],
   "source": [
    "column = countries[\"country\"]\n",
    "column"
   ]
  },
  {
   "cell_type": "markdown",
   "id": "ee447549-715e-4c1a-8ea3-82edb47b2ed9",
   "metadata": {},
   "source": [
    "It has the same `index` as the whole table"
   ]
  },
  {
   "cell_type": "code",
   "execution_count": 14,
   "id": "a795cb2f-1881-4077-80a6-b0a70013cd93",
   "metadata": {},
   "outputs": [
    {
     "data": {
      "text/plain": [
       "RangeIndex(start=0, stop=273, step=1)"
      ]
     },
     "execution_count": 14,
     "metadata": {},
     "output_type": "execute_result"
    }
   ],
   "source": [
    "column.index"
   ]
  },
  {
   "cell_type": "markdown",
   "id": "1b95a274-d9cc-455c-bd4a-951f617c1779",
   "metadata": {},
   "source": [
    "So `pandas` table is a collection of `Series` with the same `index`"
   ]
  },
  {
   "cell_type": "markdown",
   "id": "7e75dede-e862-408f-a12b-84e59ed4f8a8",
   "metadata": {},
   "source": [
    "## 4. Selecting elements"
   ]
  },
  {
   "cell_type": "markdown",
   "id": "767dab57-ed94-4f83-aedd-256978cb4b99",
   "metadata": {},
   "source": [
    "### From `Series`"
   ]
  },
  {
   "cell_type": "code",
   "execution_count": 15,
   "id": "60772909-f959-4839-afd9-772b8f3d524c",
   "metadata": {},
   "outputs": [
    {
     "data": {
      "text/plain": [
       "0           abkh\n",
       "1            abw\n",
       "2            afg\n",
       "3            ago\n",
       "4            aia\n",
       "         ...    \n",
       "268    yem_south\n",
       "269          yug\n",
       "270          zaf\n",
       "271          zmb\n",
       "272          zwe\n",
       "Name: country, Length: 273, dtype: object"
      ]
     },
     "execution_count": 15,
     "metadata": {},
     "output_type": "execute_result"
    }
   ],
   "source": [
    "column"
   ]
  },
  {
   "cell_type": "code",
   "execution_count": 16,
   "id": "58969ac2-ac30-417e-8a3c-96723161a335",
   "metadata": {},
   "outputs": [
    {
     "data": {
      "text/plain": [
       "272          zwe\n",
       "271          zmb\n",
       "270          zaf\n",
       "269          yug\n",
       "268    yem_south\n",
       "         ...    \n",
       "4            aia\n",
       "3            ago\n",
       "2            afg\n",
       "1            abw\n",
       "0           abkh\n",
       "Name: country, Length: 273, dtype: object"
      ]
     },
     "execution_count": 16,
     "metadata": {},
     "output_type": "execute_result"
    }
   ],
   "source": [
    "column = column.sort_values(ascending=False)\n",
    "column"
   ]
  },
  {
   "cell_type": "markdown",
   "id": "6d68eb66-2c73-4f7d-8eda-c915aa9947de",
   "metadata": {},
   "source": [
    "#### Selecting by `index` label:"
   ]
  },
  {
   "cell_type": "code",
   "execution_count": 17,
   "id": "9b2cd8e1-1398-4a62-82fd-4a1b51b91cc7",
   "metadata": {},
   "outputs": [
    {
     "data": {
      "text/plain": [
       "'abkh'"
      ]
     },
     "execution_count": 17,
     "metadata": {},
     "output_type": "execute_result"
    }
   ],
   "source": [
    "column[0]"
   ]
  },
  {
   "cell_type": "markdown",
   "id": "54f6eb9a-10bf-4232-a8fa-40b724249d96",
   "metadata": {},
   "source": [
    "Same as above:"
   ]
  },
  {
   "cell_type": "code",
   "execution_count": 18,
   "id": "35d46569-a543-4b8b-9d30-9b95284e680a",
   "metadata": {},
   "outputs": [
    {
     "data": {
      "text/plain": [
       "'abkh'"
      ]
     },
     "execution_count": 18,
     "metadata": {},
     "output_type": "execute_result"
    }
   ],
   "source": [
    "column.loc[0]"
   ]
  },
  {
   "cell_type": "markdown",
   "id": "96b0aa9a-1730-4b1d-9784-3f500d919062",
   "metadata": {},
   "source": [
    "No such label in `index`:"
   ]
  },
  {
   "cell_type": "code",
   "execution_count": 19,
   "id": "19985cd8-38d0-4cc9-8d76-91327f72c2f5",
   "metadata": {},
   "outputs": [
    {
     "ename": "KeyError",
     "evalue": "'0'",
     "output_type": "error",
     "traceback": [
      "\u001b[0;31m---------------------------------------------------------------------------\u001b[0m",
      "\u001b[0;31mKeyError\u001b[0m                                  Traceback (most recent call last)",
      "File \u001b[0;32m~/Projects/python-data-science/venv/lib/python3.9/site-packages/pandas/core/indexes/base.py:3621\u001b[0m, in \u001b[0;36mIndex.get_loc\u001b[0;34m(self, key, method, tolerance)\u001b[0m\n\u001b[1;32m   3620\u001b[0m \u001b[38;5;28;01mtry\u001b[39;00m:\n\u001b[0;32m-> 3621\u001b[0m     \u001b[38;5;28;01mreturn\u001b[39;00m \u001b[38;5;28;43mself\u001b[39;49m\u001b[38;5;241;43m.\u001b[39;49m\u001b[43m_engine\u001b[49m\u001b[38;5;241;43m.\u001b[39;49m\u001b[43mget_loc\u001b[49m\u001b[43m(\u001b[49m\u001b[43mcasted_key\u001b[49m\u001b[43m)\u001b[49m\n\u001b[1;32m   3622\u001b[0m \u001b[38;5;28;01mexcept\u001b[39;00m \u001b[38;5;167;01mKeyError\u001b[39;00m \u001b[38;5;28;01mas\u001b[39;00m err:\n",
      "File \u001b[0;32mpandas/_libs/index.pyx:136\u001b[0m, in \u001b[0;36mpandas._libs.index.IndexEngine.get_loc\u001b[0;34m()\u001b[0m\n",
      "File \u001b[0;32mpandas/_libs/index.pyx:144\u001b[0m, in \u001b[0;36mpandas._libs.index.IndexEngine.get_loc\u001b[0;34m()\u001b[0m\n",
      "File \u001b[0;32mpandas/_libs/index_class_helper.pxi:41\u001b[0m, in \u001b[0;36mpandas._libs.index.Int64Engine._check_type\u001b[0;34m()\u001b[0m\n",
      "\u001b[0;31mKeyError\u001b[0m: '0'",
      "\nThe above exception was the direct cause of the following exception:\n",
      "\u001b[0;31mKeyError\u001b[0m                                  Traceback (most recent call last)",
      "Input \u001b[0;32mIn [19]\u001b[0m, in \u001b[0;36m<cell line: 1>\u001b[0;34m()\u001b[0m\n\u001b[0;32m----> 1\u001b[0m \u001b[43mcolumn\u001b[49m\u001b[43m[\u001b[49m\u001b[38;5;124;43m\"\u001b[39;49m\u001b[38;5;124;43m0\u001b[39;49m\u001b[38;5;124;43m\"\u001b[39;49m\u001b[43m]\u001b[49m\n",
      "File \u001b[0;32m~/Projects/python-data-science/venv/lib/python3.9/site-packages/pandas/core/series.py:958\u001b[0m, in \u001b[0;36mSeries.__getitem__\u001b[0;34m(self, key)\u001b[0m\n\u001b[1;32m    955\u001b[0m     \u001b[38;5;28;01mreturn\u001b[39;00m \u001b[38;5;28mself\u001b[39m\u001b[38;5;241m.\u001b[39m_values[key]\n\u001b[1;32m    957\u001b[0m \u001b[38;5;28;01melif\u001b[39;00m key_is_scalar:\n\u001b[0;32m--> 958\u001b[0m     \u001b[38;5;28;01mreturn\u001b[39;00m \u001b[38;5;28;43mself\u001b[39;49m\u001b[38;5;241;43m.\u001b[39;49m\u001b[43m_get_value\u001b[49m\u001b[43m(\u001b[49m\u001b[43mkey\u001b[49m\u001b[43m)\u001b[49m\n\u001b[1;32m    960\u001b[0m \u001b[38;5;28;01mif\u001b[39;00m is_hashable(key):\n\u001b[1;32m    961\u001b[0m     \u001b[38;5;66;03m# Otherwise index.get_value will raise InvalidIndexError\u001b[39;00m\n\u001b[1;32m    962\u001b[0m     \u001b[38;5;28;01mtry\u001b[39;00m:\n\u001b[1;32m    963\u001b[0m         \u001b[38;5;66;03m# For labels that don't resolve as scalars like tuples and frozensets\u001b[39;00m\n",
      "File \u001b[0;32m~/Projects/python-data-science/venv/lib/python3.9/site-packages/pandas/core/series.py:1069\u001b[0m, in \u001b[0;36mSeries._get_value\u001b[0;34m(self, label, takeable)\u001b[0m\n\u001b[1;32m   1066\u001b[0m     \u001b[38;5;28;01mreturn\u001b[39;00m \u001b[38;5;28mself\u001b[39m\u001b[38;5;241m.\u001b[39m_values[label]\n\u001b[1;32m   1068\u001b[0m \u001b[38;5;66;03m# Similar to Index.get_value, but we do not fall back to positional\u001b[39;00m\n\u001b[0;32m-> 1069\u001b[0m loc \u001b[38;5;241m=\u001b[39m \u001b[38;5;28;43mself\u001b[39;49m\u001b[38;5;241;43m.\u001b[39;49m\u001b[43mindex\u001b[49m\u001b[38;5;241;43m.\u001b[39;49m\u001b[43mget_loc\u001b[49m\u001b[43m(\u001b[49m\u001b[43mlabel\u001b[49m\u001b[43m)\u001b[49m\n\u001b[1;32m   1070\u001b[0m \u001b[38;5;28;01mreturn\u001b[39;00m \u001b[38;5;28mself\u001b[39m\u001b[38;5;241m.\u001b[39mindex\u001b[38;5;241m.\u001b[39m_get_values_for_loc(\u001b[38;5;28mself\u001b[39m, loc, label)\n",
      "File \u001b[0;32m~/Projects/python-data-science/venv/lib/python3.9/site-packages/pandas/core/indexes/base.py:3623\u001b[0m, in \u001b[0;36mIndex.get_loc\u001b[0;34m(self, key, method, tolerance)\u001b[0m\n\u001b[1;32m   3621\u001b[0m     \u001b[38;5;28;01mreturn\u001b[39;00m \u001b[38;5;28mself\u001b[39m\u001b[38;5;241m.\u001b[39m_engine\u001b[38;5;241m.\u001b[39mget_loc(casted_key)\n\u001b[1;32m   3622\u001b[0m \u001b[38;5;28;01mexcept\u001b[39;00m \u001b[38;5;167;01mKeyError\u001b[39;00m \u001b[38;5;28;01mas\u001b[39;00m err:\n\u001b[0;32m-> 3623\u001b[0m     \u001b[38;5;28;01mraise\u001b[39;00m \u001b[38;5;167;01mKeyError\u001b[39;00m(key) \u001b[38;5;28;01mfrom\u001b[39;00m \u001b[38;5;21;01merr\u001b[39;00m\n\u001b[1;32m   3624\u001b[0m \u001b[38;5;28;01mexcept\u001b[39;00m \u001b[38;5;167;01mTypeError\u001b[39;00m:\n\u001b[1;32m   3625\u001b[0m     \u001b[38;5;66;03m# If we have a listlike key, _check_indexing_error will raise\u001b[39;00m\n\u001b[1;32m   3626\u001b[0m     \u001b[38;5;66;03m#  InvalidIndexError. Otherwise we fall through and re-raise\u001b[39;00m\n\u001b[1;32m   3627\u001b[0m     \u001b[38;5;66;03m#  the TypeError.\u001b[39;00m\n\u001b[1;32m   3628\u001b[0m     \u001b[38;5;28mself\u001b[39m\u001b[38;5;241m.\u001b[39m_check_indexing_error(key)\n",
      "\u001b[0;31mKeyError\u001b[0m: '0'"
     ]
    }
   ],
   "source": [
    "column[\"0\"]"
   ]
  },
  {
   "cell_type": "markdown",
   "id": "ce44e8f6-2181-4f9f-b78d-c618198f6c57",
   "metadata": {},
   "source": [
    "#### Selecting by position:"
   ]
  },
  {
   "cell_type": "code",
   "execution_count": null,
   "id": "c7202be7-cc6d-4ae9-8268-90b1549d1b04",
   "metadata": {},
   "outputs": [],
   "source": [
    "column.iloc[0]"
   ]
  },
  {
   "cell_type": "code",
   "execution_count": null,
   "id": "34e49017-de4b-48d5-a16c-3654e1639e64",
   "metadata": {},
   "outputs": [],
   "source": [
    "column.iloc[-1]"
   ]
  },
  {
   "cell_type": "markdown",
   "id": "6d78e363-8cf4-4d42-9676-e6efbc7aad6e",
   "metadata": {},
   "source": [
    "#### Selecting by position with slices:"
   ]
  },
  {
   "cell_type": "code",
   "execution_count": 20,
   "id": "1d710974-4960-47be-a236-44a156dcd8d9",
   "metadata": {},
   "outputs": [
    {
     "data": {
      "text/plain": [
       "271          zmb\n",
       "270          zaf\n",
       "269          yug\n",
       "268    yem_south\n",
       "Name: country, dtype: object"
      ]
     },
     "execution_count": 20,
     "metadata": {},
     "output_type": "execute_result"
    }
   ],
   "source": [
    "column[1:5]"
   ]
  },
  {
   "cell_type": "markdown",
   "id": "b4c2e338-c8ad-49a7-87a7-6531068aec93",
   "metadata": {},
   "source": [
    "What type is this object?"
   ]
  },
  {
   "cell_type": "markdown",
   "id": "df8ad6dd-9674-43a9-9a9d-a79be8dad7c8",
   "metadata": {},
   "source": [
    "#### By filtering criteria (boolean index)"
   ]
  },
  {
   "cell_type": "code",
   "execution_count": 21,
   "id": "a4cf77ff-e85b-4f8f-a01e-8d8723b54737",
   "metadata": {},
   "outputs": [
    {
     "data": {
      "text/plain": [
       "272    3\n",
       "271    3\n",
       "270    3\n",
       "269    3\n",
       "268    9\n",
       "      ..\n",
       "4      3\n",
       "3      3\n",
       "2      3\n",
       "1      3\n",
       "0      4\n",
       "Name: country, Length: 273, dtype: int64"
      ]
     },
     "execution_count": 21,
     "metadata": {},
     "output_type": "execute_result"
    }
   ],
   "source": [
    "column.str.len()"
   ]
  },
  {
   "cell_type": "code",
   "execution_count": 22,
   "id": "1c48dff9-6aba-4097-a7ff-1b705b875d56",
   "metadata": {},
   "outputs": [
    {
     "data": {
      "text/plain": [
       "272    False\n",
       "271    False\n",
       "270    False\n",
       "269    False\n",
       "268     True\n",
       "       ...  \n",
       "4      False\n",
       "3      False\n",
       "2      False\n",
       "1      False\n",
       "0      False\n",
       "Name: country, Length: 273, dtype: bool"
      ]
     },
     "execution_count": 22,
     "metadata": {},
     "output_type": "execute_result"
    }
   ],
   "source": [
    "column.str.len() > 5"
   ]
  },
  {
   "cell_type": "code",
   "execution_count": 23,
   "id": "1ebf02d2-e1d9-4cac-be27-026fed294cda",
   "metadata": {},
   "outputs": [
    {
     "data": {
      "text/plain": [
       "268            yem_south\n",
       "267            yem_north\n",
       "255    usa_minor_out_isl\n",
       "244               transn\n",
       "220               sosset\n",
       "219          som_somland\n",
       "210       sgero_a_ssandw\n",
       "207           scg_ex_kos\n",
       "198        pse_west_bank\n",
       "197             pse_gaza\n",
       "178          nld_curacao\n",
       "174               ngokar\n",
       "131          korea_union\n",
       "104          heard_a_mcd\n",
       "82        fra_clipperton\n",
       "81            fra_antarc\n",
       "72             eri_a_eth\n",
       "63              deu_west\n",
       "62              deu_east\n",
       "59               cyp_nor\n",
       "43                cheslo\n",
       "41               chanisl\n",
       "32                bouisl\n",
       "5              akr_a_dhe\n",
       "Name: country, dtype: object"
      ]
     },
     "execution_count": 23,
     "metadata": {},
     "output_type": "execute_result"
    }
   ],
   "source": [
    "column[column.str.len() > 5]"
   ]
  },
  {
   "cell_type": "markdown",
   "id": "472524c3-e4d2-45ba-a079-66fec8926599",
   "metadata": {},
   "source": [
    "What are the types of the objects above?"
   ]
  },
  {
   "cell_type": "markdown",
   "id": "474dd00f-d7e6-42ab-9c45-e382aceb85e0",
   "metadata": {},
   "source": [
    "### From `DataFrame`"
   ]
  },
  {
   "cell_type": "markdown",
   "id": "ccf7e1e0-ab4a-494d-92ea-7ec244964baf",
   "metadata": {},
   "source": [
    "Almost the same as for `Series`, but operating on the 2 axes, instead of 1"
   ]
  },
  {
   "cell_type": "markdown",
   "id": "9e9ff720-4379-421d-a82f-88da330adfb0",
   "metadata": {},
   "source": [
    "#### By labels"
   ]
  },
  {
   "cell_type": "code",
   "execution_count": 24,
   "id": "3429da03-2994-4d53-8935-60f52cd28b1f",
   "metadata": {},
   "outputs": [
    {
     "data": {
      "text/plain": [
       "'Abkhazia'"
      ]
     },
     "execution_count": 24,
     "metadata": {},
     "output_type": "execute_result"
    }
   ],
   "source": [
    "countries.loc[0, \"name\"]"
   ]
  },
  {
   "cell_type": "code",
   "execution_count": 25,
   "id": "36597ed0-1792-416a-b27d-d36b10f6e06c",
   "metadata": {},
   "outputs": [
    {
     "data": {
      "text/html": [
       "<div>\n",
       "<style scoped>\n",
       "    .dataframe tbody tr th:only-of-type {\n",
       "        vertical-align: middle;\n",
       "    }\n",
       "\n",
       "    .dataframe tbody tr th {\n",
       "        vertical-align: top;\n",
       "    }\n",
       "\n",
       "    .dataframe thead th {\n",
       "        text-align: right;\n",
       "    }\n",
       "</style>\n",
       "<table border=\"1\" class=\"dataframe\">\n",
       "  <thead>\n",
       "    <tr style=\"text-align: right;\">\n",
       "      <th></th>\n",
       "      <th>name</th>\n",
       "      <th>un_sdg_ldc</th>\n",
       "      <th>un_sdg_region</th>\n",
       "      <th>un_state</th>\n",
       "    </tr>\n",
       "  </thead>\n",
       "  <tbody>\n",
       "    <tr>\n",
       "      <th>1</th>\n",
       "      <td>Aruba</td>\n",
       "      <td>un_not_least_developed</td>\n",
       "      <td>un_latin_america_and_the_caribbean</td>\n",
       "      <td>False</td>\n",
       "    </tr>\n",
       "    <tr>\n",
       "      <th>2</th>\n",
       "      <td>Afghanistan</td>\n",
       "      <td>un_least_developed</td>\n",
       "      <td>un_central_and_southern_asia</td>\n",
       "      <td>True</td>\n",
       "    </tr>\n",
       "    <tr>\n",
       "      <th>3</th>\n",
       "      <td>Angola</td>\n",
       "      <td>un_least_developed</td>\n",
       "      <td>un_sub_saharan_africa</td>\n",
       "      <td>True</td>\n",
       "    </tr>\n",
       "    <tr>\n",
       "      <th>4</th>\n",
       "      <td>Anguilla</td>\n",
       "      <td>un_not_least_developed</td>\n",
       "      <td>un_latin_america_and_the_caribbean</td>\n",
       "      <td>False</td>\n",
       "    </tr>\n",
       "    <tr>\n",
       "      <th>5</th>\n",
       "      <td>Akrotiri and Dhekelia</td>\n",
       "      <td>NaN</td>\n",
       "      <td>NaN</td>\n",
       "      <td>False</td>\n",
       "    </tr>\n",
       "  </tbody>\n",
       "</table>\n",
       "</div>"
      ],
      "text/plain": [
       "                    name              un_sdg_ldc  \\\n",
       "1                  Aruba  un_not_least_developed   \n",
       "2            Afghanistan      un_least_developed   \n",
       "3                 Angola      un_least_developed   \n",
       "4               Anguilla  un_not_least_developed   \n",
       "5  Akrotiri and Dhekelia                     NaN   \n",
       "\n",
       "                        un_sdg_region  un_state  \n",
       "1  un_latin_america_and_the_caribbean     False  \n",
       "2        un_central_and_southern_asia      True  \n",
       "3               un_sub_saharan_africa      True  \n",
       "4  un_latin_america_and_the_caribbean     False  \n",
       "5                                 NaN     False  "
      ]
     },
     "execution_count": 25,
     "metadata": {},
     "output_type": "execute_result"
    }
   ],
   "source": [
    "countries.loc[1:5, \"name\":\"un_state\"]"
   ]
  },
  {
   "cell_type": "markdown",
   "id": "fafd8a30-9d02-4506-92a3-6284f010e4bf",
   "metadata": {},
   "source": [
    "To specify _all rows_ or _all columns_ use a single `:`"
   ]
  },
  {
   "cell_type": "code",
   "execution_count": 26,
   "id": "11c3c8a2-b818-4db2-885f-2c0f75ff4427",
   "metadata": {},
   "outputs": [
    {
     "data": {
      "text/plain": [
       "0                  Abkhazia\n",
       "1                     Aruba\n",
       "2               Afghanistan\n",
       "3                    Angola\n",
       "4                  Anguilla\n",
       "               ...         \n",
       "268    South Yemen (former)\n",
       "269              Yugoslavia\n",
       "270            South Africa\n",
       "271                  Zambia\n",
       "272                Zimbabwe\n",
       "Name: name, Length: 273, dtype: object"
      ]
     },
     "execution_count": 26,
     "metadata": {},
     "output_type": "execute_result"
    }
   ],
   "source": [
    "countries.loc[:, \"name\"]"
   ]
  },
  {
   "cell_type": "markdown",
   "id": "59015dc7-09af-4b66-9b7c-86fdcdb454ae",
   "metadata": {},
   "source": [
    "#### Special selecting for columns"
   ]
  },
  {
   "cell_type": "code",
   "execution_count": 27,
   "id": "f9ad7747-caab-4a0f-b413-fd95bbcfd5e1",
   "metadata": {},
   "outputs": [
    {
     "data": {
      "text/plain": [
       "0                  Abkhazia\n",
       "1                     Aruba\n",
       "2               Afghanistan\n",
       "3                    Angola\n",
       "4                  Anguilla\n",
       "               ...         \n",
       "268    South Yemen (former)\n",
       "269              Yugoslavia\n",
       "270            South Africa\n",
       "271                  Zambia\n",
       "272                Zimbabwe\n",
       "Name: name, Length: 273, dtype: object"
      ]
     },
     "execution_count": 27,
     "metadata": {},
     "output_type": "execute_result"
    }
   ],
   "source": [
    "countries[\"name\"]"
   ]
  },
  {
   "cell_type": "markdown",
   "id": "dd76ded4-76e3-49bd-9462-14bc87e34acc",
   "metadata": {},
   "source": [
    "Or even:"
   ]
  },
  {
   "cell_type": "code",
   "execution_count": 28,
   "id": "9a629619-0ec2-4a61-b2f1-d6d329918232",
   "metadata": {},
   "outputs": [
    {
     "data": {
      "text/plain": [
       "0                  Abkhazia\n",
       "1                     Aruba\n",
       "2               Afghanistan\n",
       "3                    Angola\n",
       "4                  Anguilla\n",
       "               ...         \n",
       "268    South Yemen (former)\n",
       "269              Yugoslavia\n",
       "270            South Africa\n",
       "271                  Zambia\n",
       "272                Zimbabwe\n",
       "Name: name, Length: 273, dtype: object"
      ]
     },
     "execution_count": 28,
     "metadata": {},
     "output_type": "execute_result"
    }
   ],
   "source": [
    "countries.name"
   ]
  },
  {
   "cell_type": "markdown",
   "id": "a5d98fb2-975e-4d50-8a9f-6ab5fcd2407f",
   "metadata": {},
   "source": [
    "#### By position"
   ]
  },
  {
   "cell_type": "code",
   "execution_count": 29,
   "id": "e00da28e-7aa2-4a06-b3c7-70040a975b07",
   "metadata": {},
   "outputs": [
    {
     "data": {
      "text/plain": [
       "'Abkhazia'"
      ]
     },
     "execution_count": 29,
     "metadata": {},
     "output_type": "execute_result"
    }
   ],
   "source": [
    "countries.iloc[0, 13]"
   ]
  },
  {
   "cell_type": "code",
   "execution_count": 30,
   "id": "1056c917-47d1-43f8-9a31-84fe1ecd2ce8",
   "metadata": {},
   "outputs": [
    {
     "data": {
      "text/html": [
       "<div>\n",
       "<style scoped>\n",
       "    .dataframe tbody tr th:only-of-type {\n",
       "        vertical-align: middle;\n",
       "    }\n",
       "\n",
       "    .dataframe tbody tr th {\n",
       "        vertical-align: top;\n",
       "    }\n",
       "\n",
       "    .dataframe thead th {\n",
       "        text-align: right;\n",
       "    }\n",
       "</style>\n",
       "<table border=\"1\" class=\"dataframe\">\n",
       "  <thead>\n",
       "    <tr style=\"text-align: right;\">\n",
       "      <th></th>\n",
       "      <th>name</th>\n",
       "      <th>un_sdg_ldc</th>\n",
       "      <th>un_sdg_region</th>\n",
       "      <th>un_state</th>\n",
       "    </tr>\n",
       "  </thead>\n",
       "  <tbody>\n",
       "    <tr>\n",
       "      <th>1</th>\n",
       "      <td>Aruba</td>\n",
       "      <td>un_not_least_developed</td>\n",
       "      <td>un_latin_america_and_the_caribbean</td>\n",
       "      <td>False</td>\n",
       "    </tr>\n",
       "    <tr>\n",
       "      <th>2</th>\n",
       "      <td>Afghanistan</td>\n",
       "      <td>un_least_developed</td>\n",
       "      <td>un_central_and_southern_asia</td>\n",
       "      <td>True</td>\n",
       "    </tr>\n",
       "    <tr>\n",
       "      <th>3</th>\n",
       "      <td>Angola</td>\n",
       "      <td>un_least_developed</td>\n",
       "      <td>un_sub_saharan_africa</td>\n",
       "      <td>True</td>\n",
       "    </tr>\n",
       "    <tr>\n",
       "      <th>4</th>\n",
       "      <td>Anguilla</td>\n",
       "      <td>un_not_least_developed</td>\n",
       "      <td>un_latin_america_and_the_caribbean</td>\n",
       "      <td>False</td>\n",
       "    </tr>\n",
       "  </tbody>\n",
       "</table>\n",
       "</div>"
      ],
      "text/plain": [
       "          name              un_sdg_ldc                       un_sdg_region  \\\n",
       "1        Aruba  un_not_least_developed  un_latin_america_and_the_caribbean   \n",
       "2  Afghanistan      un_least_developed        un_central_and_southern_asia   \n",
       "3       Angola      un_least_developed               un_sub_saharan_africa   \n",
       "4     Anguilla  un_not_least_developed  un_latin_america_and_the_caribbean   \n",
       "\n",
       "   un_state  \n",
       "1     False  \n",
       "2      True  \n",
       "3      True  \n",
       "4     False  "
      ]
     },
     "execution_count": 30,
     "metadata": {},
     "output_type": "execute_result"
    }
   ],
   "source": [
    "countries.iloc[1:5, 13:17]"
   ]
  },
  {
   "cell_type": "markdown",
   "id": "8b359acc-a16d-4881-83c0-b29316e56181",
   "metadata": {},
   "source": [
    "#### By filtering criteria (boolean index)"
   ]
  },
  {
   "cell_type": "code",
   "execution_count": 31,
   "id": "631c9f76-f9ff-4170-8674-34722d1d1507",
   "metadata": {},
   "outputs": [
    {
     "data": {
      "text/plain": [
       "41      Channel Islands\n",
       "44                Chile\n",
       "45                China\n",
       "56     Christmas Island\n",
       "236                Chad\n",
       "Name: name, dtype: object"
      ]
     },
     "execution_count": 31,
     "metadata": {},
     "output_type": "execute_result"
    }
   ],
   "source": [
    "countries.loc[countries.name.str.startswith(\"Ch\"), \"name\"]"
   ]
  },
  {
   "cell_type": "code",
   "execution_count": 32,
   "id": "59af0cb9-0689-4255-8bd8-854fd8f7dfc0",
   "metadata": {},
   "outputs": [
    {
     "data": {
      "text/html": [
       "<div>\n",
       "<style scoped>\n",
       "    .dataframe tbody tr th:only-of-type {\n",
       "        vertical-align: middle;\n",
       "    }\n",
       "\n",
       "    .dataframe tbody tr th {\n",
       "        vertical-align: top;\n",
       "    }\n",
       "\n",
       "    .dataframe thead th {\n",
       "        text-align: right;\n",
       "    }\n",
       "</style>\n",
       "<table border=\"1\" class=\"dataframe\">\n",
       "  <thead>\n",
       "    <tr style=\"text-align: right;\">\n",
       "      <th></th>\n",
       "      <th>un_sdg_ldc</th>\n",
       "      <th>un_sdg_region</th>\n",
       "      <th>un_state</th>\n",
       "    </tr>\n",
       "  </thead>\n",
       "  <tbody>\n",
       "    <tr>\n",
       "      <th>0</th>\n",
       "      <td>NaN</td>\n",
       "      <td>NaN</td>\n",
       "      <td>False</td>\n",
       "    </tr>\n",
       "    <tr>\n",
       "      <th>1</th>\n",
       "      <td>un_not_least_developed</td>\n",
       "      <td>un_latin_america_and_the_caribbean</td>\n",
       "      <td>False</td>\n",
       "    </tr>\n",
       "    <tr>\n",
       "      <th>2</th>\n",
       "      <td>un_least_developed</td>\n",
       "      <td>un_central_and_southern_asia</td>\n",
       "      <td>True</td>\n",
       "    </tr>\n",
       "    <tr>\n",
       "      <th>3</th>\n",
       "      <td>un_least_developed</td>\n",
       "      <td>un_sub_saharan_africa</td>\n",
       "      <td>True</td>\n",
       "    </tr>\n",
       "    <tr>\n",
       "      <th>4</th>\n",
       "      <td>un_not_least_developed</td>\n",
       "      <td>un_latin_america_and_the_caribbean</td>\n",
       "      <td>False</td>\n",
       "    </tr>\n",
       "    <tr>\n",
       "      <th>...</th>\n",
       "      <td>...</td>\n",
       "      <td>...</td>\n",
       "      <td>...</td>\n",
       "    </tr>\n",
       "    <tr>\n",
       "      <th>268</th>\n",
       "      <td>NaN</td>\n",
       "      <td>NaN</td>\n",
       "      <td>False</td>\n",
       "    </tr>\n",
       "    <tr>\n",
       "      <th>269</th>\n",
       "      <td>NaN</td>\n",
       "      <td>NaN</td>\n",
       "      <td>False</td>\n",
       "    </tr>\n",
       "    <tr>\n",
       "      <th>270</th>\n",
       "      <td>un_not_least_developed</td>\n",
       "      <td>un_sub_saharan_africa</td>\n",
       "      <td>True</td>\n",
       "    </tr>\n",
       "    <tr>\n",
       "      <th>271</th>\n",
       "      <td>un_least_developed</td>\n",
       "      <td>un_sub_saharan_africa</td>\n",
       "      <td>True</td>\n",
       "    </tr>\n",
       "    <tr>\n",
       "      <th>272</th>\n",
       "      <td>un_not_least_developed</td>\n",
       "      <td>un_sub_saharan_africa</td>\n",
       "      <td>True</td>\n",
       "    </tr>\n",
       "  </tbody>\n",
       "</table>\n",
       "<p>273 rows × 3 columns</p>\n",
       "</div>"
      ],
      "text/plain": [
       "                 un_sdg_ldc                       un_sdg_region  un_state\n",
       "0                       NaN                                 NaN     False\n",
       "1    un_not_least_developed  un_latin_america_and_the_caribbean     False\n",
       "2        un_least_developed        un_central_and_southern_asia      True\n",
       "3        un_least_developed               un_sub_saharan_africa      True\n",
       "4    un_not_least_developed  un_latin_america_and_the_caribbean     False\n",
       "..                      ...                                 ...       ...\n",
       "268                     NaN                                 NaN     False\n",
       "269                     NaN                                 NaN     False\n",
       "270  un_not_least_developed               un_sub_saharan_africa      True\n",
       "271      un_least_developed               un_sub_saharan_africa      True\n",
       "272  un_not_least_developed               un_sub_saharan_africa      True\n",
       "\n",
       "[273 rows x 3 columns]"
      ]
     },
     "execution_count": 32,
     "metadata": {},
     "output_type": "execute_result"
    }
   ],
   "source": [
    "countries.loc[:, countries.columns.str.contains(\"un_\")]"
   ]
  },
  {
   "cell_type": "markdown",
   "id": "b89c73a7-7c7d-4883-9b69-c4ddb29e911a",
   "metadata": {},
   "source": [
    "## 5. Classwork"
   ]
  },
  {
   "cell_type": "markdown",
   "id": "7c0f2e85-ace7-4a96-aef3-cc3256d262fc",
   "metadata": {},
   "source": [
    "### 1. How many countries are there in Africa?"
   ]
  },
  {
   "cell_type": "markdown",
   "id": "f442038f-9246-4535-b974-29dc97ee8905",
   "metadata": {},
   "source": [
    "### 2. How many non-UN states are there in Europe?"
   ]
  },
  {
   "cell_type": "markdown",
   "id": "3178638c-ee67-482c-907d-d5beef2eaa74",
   "metadata": {},
   "source": [
    "### 3. What are the last 5 Asian countries in this table?"
   ]
  },
  {
   "cell_type": "markdown",
   "id": "66341d2e-4975-46a3-b8ac-55615816c432",
   "metadata": {},
   "source": [
    "### 4. What is the middle country in the high_income group?"
   ]
  }
 ],
 "metadata": {
  "kernelspec": {
   "display_name": "Python 3 (ipykernel)",
   "language": "python",
   "name": "python3"
  },
  "language_info": {
   "codemirror_mode": {
    "name": "ipython",
    "version": 3
   },
   "file_extension": ".py",
   "mimetype": "text/x-python",
   "name": "python",
   "nbconvert_exporter": "python",
   "pygments_lexer": "ipython3",
   "version": "3.9.6"
  },
  "toc-autonumbering": false,
  "toc-showmarkdowntxt": false,
  "toc-showtags": false
 },
 "nbformat": 4,
 "nbformat_minor": 5
}
