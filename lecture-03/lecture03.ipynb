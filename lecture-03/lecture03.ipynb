{
 "cells": [
  {
   "cell_type": "code",
   "execution_count": null,
   "id": "2f4d11a3-7bbf-46db-b73c-b14dc73d5c70",
   "metadata": {},
   "outputs": [],
   "source": [
    "import pandas as pd"
   ]
  },
  {
   "cell_type": "code",
   "execution_count": null,
   "id": "bb69c87c-be15-4102-8ee6-7a2adfeb7245",
   "metadata": {},
   "outputs": [],
   "source": [
    "pd.options.display.max_columns = 50"
   ]
  },
  {
   "cell_type": "markdown",
   "id": "889d331d-e8a3-4d6a-a385-c255daf6997a",
   "metadata": {},
   "source": [
    "# Pandas values and overview methods"
   ]
  },
  {
   "cell_type": "markdown",
   "id": "a287f652-68d2-4825-b791-22c20306b0fc",
   "metadata": {},
   "source": [
    "We'll be using free data via gapminder.org [repository](https://github.com/open-numbers/ddf--gapminder--systema_globalis), CC-BY LICENSE for this exercise. \n",
    "\n",
    "Let's load the data from its storage on github: two tables, with information about world's countries:"
   ]
  },
  {
   "cell_type": "code",
   "execution_count": null,
   "id": "d46c4f75-1bbe-4ddf-af0e-d48a1edd13bf",
   "metadata": {},
   "outputs": [],
   "source": [
    "countries = pd.read_csv(\n",
    "    \"https://raw.githubusercontent.com/open-numbers/ddf--gapminder--systema_globalis\"\n",
    "    \"/master/ddf--entities--geo--country.csv\"\n",
    ")"
   ]
  },
  {
   "cell_type": "code",
   "execution_count": null,
   "id": "0307d922-1b80-46be-8fe3-cbfe34986072",
   "metadata": {},
   "outputs": [],
   "source": [
    "population = pd.read_csv(\n",
    "    \"https://raw.githubusercontent.com/open-numbers/ddf--gapminder--systema_globalis\"\n",
    "    \"/master/countries-etc-datapoints/ddf--datapoints--population_total--by--geo--time.csv\"    \n",
    ")"
   ]
  },
  {
   "cell_type": "markdown",
   "id": "cddb4971-951e-4438-8a6e-418bde2cfac9",
   "metadata": {},
   "source": [
    "## 1. Pandas operates on columns"
   ]
  },
  {
   "cell_type": "markdown",
   "id": "c5c99d4b-9286-42b6-ad90-71c740c97a73",
   "metadata": {},
   "source": [
    "In pandas tables rows and columns have different meaning:\n",
    "* row describe observations\n",
    "* columns describe observations' features\n",
    "\n",
    "For instance, birds. We define what we are interested in as columns: size, weight, color, diet, habitat.\n",
    "\n",
    "Then we observe birds, and each new bird gets its own row.\n",
    "\n",
    "From this follows, that each column has its data type and meaning (number, weight in grams), while rows can combine multiple data types (numbers, strings, categories)."
   ]
  },
  {
   "cell_type": "markdown",
   "id": "59f6ac49-962b-402a-bd12-062f49c3403c",
   "metadata": {},
   "source": [
    "To view table data types, check `dtypes` attribute"
   ]
  },
  {
   "cell_type": "code",
   "execution_count": null,
   "id": "5658609e-c02f-4508-8f9a-d8ac03fe687e",
   "metadata": {},
   "outputs": [],
   "source": [
    "countries.dtypes"
   ]
  },
  {
   "cell_type": "markdown",
   "id": "c6c570ec-a41d-494a-8267-0f06fd3ab0cd",
   "metadata": {},
   "source": [
    "* `object` means string (in most cases)\n",
    "* `float64` is a floating point number\n",
    "* `bool` is boolean (True/False)\n",
    "* `int` can be integer numbers\n",
    "* `category` can be special type for categorical data\n",
    "* date and time types also exist"
   ]
  },
  {
   "cell_type": "markdown",
   "id": "678be6f2-c0a8-4013-84af-73816d69c66a",
   "metadata": {},
   "source": [
    "Not all operations are possible for each data type. For example, you cannot compute average string, or append `.` to the numbers."
   ]
  },
  {
   "cell_type": "markdown",
   "id": "af67e306-5783-4ef5-b8d7-186bc08af863",
   "metadata": {},
   "source": [
    "To see basic statistics for each column, use `describe` method:"
   ]
  },
  {
   "cell_type": "code",
   "execution_count": null,
   "id": "4dda3bf9-1ba1-4203-a484-ee2b857b1b79",
   "metadata": {},
   "outputs": [],
   "source": [
    "countries.describe(include=\"all\")"
   ]
  },
  {
   "cell_type": "markdown",
   "id": "25195d11-c9a8-4b71-a15c-7a1c46a8d3f3",
   "metadata": {},
   "source": [
    "## 2. Summary operations for strings and categories"
   ]
  },
  {
   "cell_type": "markdown",
   "id": "bce2a901-75bb-4455-91b7-2eba78abf909",
   "metadata": {},
   "source": [
    "### Number of entries (present values)"
   ]
  },
  {
   "cell_type": "code",
   "execution_count": null,
   "id": "c9d84fc8-5800-494b-a1a1-7c178f08b185",
   "metadata": {},
   "outputs": [],
   "source": [
    "countries.income_3groups.count()"
   ]
  },
  {
   "cell_type": "markdown",
   "id": "ec67a5f8-7367-4b34-a906-dc71dc953333",
   "metadata": {},
   "source": [
    "Out of total number of rows"
   ]
  },
  {
   "cell_type": "code",
   "execution_count": null,
   "id": "a794ef73-58d2-406e-96ee-556c0ae0e9cb",
   "metadata": {},
   "outputs": [],
   "source": [
    "countries.shape[0]"
   ]
  },
  {
   "cell_type": "markdown",
   "id": "81a7ceda-fc11-43e8-b902-de7c5f4f10b8",
   "metadata": {},
   "source": [
    "### Unique enties"
   ]
  },
  {
   "cell_type": "code",
   "execution_count": null,
   "id": "7f311ad9-bcc1-4e6e-b9ad-29971be2bb82",
   "metadata": {},
   "outputs": [],
   "source": [
    "countries.income_3groups.unique()"
   ]
  },
  {
   "cell_type": "markdown",
   "id": "7305eeab-b25b-497f-b047-3157d9ecf863",
   "metadata": {},
   "source": [
    "### Number of unique entries"
   ]
  },
  {
   "cell_type": "code",
   "execution_count": null,
   "id": "9b373902-e03c-40ee-866d-f4d83a356e0f",
   "metadata": {},
   "outputs": [],
   "source": [
    "countries.income_3groups.nunique()"
   ]
  },
  {
   "cell_type": "code",
   "execution_count": null,
   "id": "4b75675c-e40f-4907-a3dc-2f9fa78b4e97",
   "metadata": {},
   "outputs": [],
   "source": [
    "countries.income_3groups.nunique(dropna=False)"
   ]
  },
  {
   "cell_type": "markdown",
   "id": "917e770e-8b0f-484d-9009-d3258351f40a",
   "metadata": {},
   "source": [
    "### Most frequent entry"
   ]
  },
  {
   "cell_type": "code",
   "execution_count": null,
   "id": "320ed37c-d2e5-44ed-90c9-ce8dfde66bc3",
   "metadata": {},
   "outputs": [],
   "source": [
    "countries.income_3groups.mode()"
   ]
  },
  {
   "cell_type": "markdown",
   "id": "f3f18bff-5892-4ae6-91c3-f5320735f6ff",
   "metadata": {},
   "source": [
    "### Count of all different entries"
   ]
  },
  {
   "cell_type": "code",
   "execution_count": null,
   "id": "296a08f4-c4a3-42b2-8d42-a9be385e9704",
   "metadata": {},
   "outputs": [],
   "source": [
    "countries.income_3groups.value_counts()"
   ]
  },
  {
   "cell_type": "markdown",
   "id": "21417b0b-9cb6-4fe2-a3b6-ccdcbd088107",
   "metadata": {},
   "source": [
    "## 3. Summary operations for numbers"
   ]
  },
  {
   "cell_type": "markdown",
   "id": "3eb688ff-457a-4e1d-a42d-ddf8579ad34e",
   "metadata": {},
   "source": [
    "We'll use population data from `population` table"
   ]
  },
  {
   "cell_type": "markdown",
   "id": "01e0c0f7-29ae-4c55-ae6d-4825cdf29e94",
   "metadata": {},
   "source": [
    "### Mean"
   ]
  },
  {
   "cell_type": "code",
   "execution_count": null,
   "id": "4d2276d7-4c3d-4098-8bff-c9ff630f6b46",
   "metadata": {},
   "outputs": [],
   "source": [
    "population.population_total.mean()"
   ]
  },
  {
   "cell_type": "markdown",
   "id": "140298ae-68f6-40a8-bd97-2d3ba04675ec",
   "metadata": {},
   "source": [
    "### Standard deviation"
   ]
  },
  {
   "cell_type": "code",
   "execution_count": null,
   "id": "a216c126-a6f7-42dc-ab95-cc6e74a6ea91",
   "metadata": {},
   "outputs": [],
   "source": [
    "population.population_total.std()"
   ]
  },
  {
   "cell_type": "markdown",
   "id": "61bd79fa-0bde-4d1f-b549-b3fbc9a2d561",
   "metadata": {},
   "source": [
    "### Minimum/maximum/median/percentiles"
   ]
  },
  {
   "cell_type": "code",
   "execution_count": null,
   "id": "4d7a40f3-a794-4525-991c-b5f7d83a338c",
   "metadata": {},
   "outputs": [],
   "source": [
    "population.population_total.min()"
   ]
  },
  {
   "cell_type": "code",
   "execution_count": null,
   "id": "8513a41f-ad0d-490f-a57c-9e890e3b694f",
   "metadata": {},
   "outputs": [],
   "source": [
    "population.population_total.max()"
   ]
  },
  {
   "cell_type": "code",
   "execution_count": null,
   "id": "5a22106c-3b49-4172-bae4-10c0b0771c65",
   "metadata": {},
   "outputs": [],
   "source": [
    "population.population_total.median()"
   ]
  },
  {
   "cell_type": "code",
   "execution_count": null,
   "id": "86eb3bc3-d7ce-485d-9a80-7edf354f07ce",
   "metadata": {},
   "outputs": [],
   "source": [
    "population.population_total.quantile(q=0.25)"
   ]
  },
  {
   "cell_type": "code",
   "execution_count": null,
   "id": "895e2aba-ba3c-4109-a3da-831e1bb69a40",
   "metadata": {},
   "outputs": [],
   "source": [
    "population.population_total.quantile(q=0.98)"
   ]
  },
  {
   "cell_type": "markdown",
   "id": "a3d2885f-bb10-4199-9c1a-c9e3c44b254f",
   "metadata": {},
   "source": [
    "### Sum"
   ]
  },
  {
   "cell_type": "code",
   "execution_count": null,
   "id": "5a5659f5-03ae-4db9-83ce-c23161097d9f",
   "metadata": {},
   "outputs": [],
   "source": [
    "population.population_total.sum()"
   ]
  },
  {
   "cell_type": "markdown",
   "id": "a44c3633-9c6a-43be-9251-b5ef6bade087",
   "metadata": {},
   "source": [
    "## 4. Classwork"
   ]
  },
  {
   "cell_type": "markdown",
   "id": "912a68f8-f0f0-46c1-9c69-fba9da44bf8a",
   "metadata": {},
   "source": [
    "1. Find a country of interest in the `countries` table\n",
    "2. Use it's `country` code to get data about its population from `population` table\n",
    "3. Compute statistics for this country's population\n",
    "4. Determine the year range of that population data\n",
    "5. Select data for 2001–2022 years only\n",
    "6. Compute statistics for these years\n",
    "7. Compare"
   ]
  },
  {
   "cell_type": "markdown",
   "id": "30df9c74-462c-4065-9624-d6b2add51e5e",
   "metadata": {},
   "source": [
    "# Pandas documentation\n",
    "\n",
    "Very important link: https://pandas.pydata.org/docs/user_guide/10min.html"
   ]
  },
  {
   "cell_type": "code",
   "execution_count": null,
   "id": "07decc57-19b2-4311-9d9d-e1e943ccc5c3",
   "metadata": {},
   "outputs": [],
   "source": []
  }
 ],
 "metadata": {
  "kernelspec": {
   "display_name": "Python 3 (ipykernel)",
   "language": "python",
   "name": "python3"
  },
  "language_info": {
   "codemirror_mode": {
    "name": "ipython",
    "version": 3
   },
   "file_extension": ".py",
   "mimetype": "text/x-python",
   "name": "python",
   "nbconvert_exporter": "python",
   "pygments_lexer": "ipython3",
   "version": "3.9.6"
  }
 },
 "nbformat": 4,
 "nbformat_minor": 5
}
