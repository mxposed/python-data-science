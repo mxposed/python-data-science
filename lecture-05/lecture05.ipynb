{
 "cells": [
  {
   "cell_type": "code",
   "execution_count": null,
   "id": "2f4d11a3-7bbf-46db-b73c-b14dc73d5c70",
   "metadata": {},
   "outputs": [],
   "source": [
    "import pandas as pd"
   ]
  },
  {
   "cell_type": "code",
   "execution_count": null,
   "id": "bb69c87c-be15-4102-8ee6-7a2adfeb7245",
   "metadata": {},
   "outputs": [],
   "source": [
    "pd.options.display.max_columns = 50"
   ]
  },
  {
   "cell_type": "markdown",
   "id": "889d331d-e8a3-4d6a-a385-c255daf6997a",
   "metadata": {},
   "source": [
    "# Blowing your mind with groupby"
   ]
  },
  {
   "cell_type": "markdown",
   "id": "a287f652-68d2-4825-b791-22c20306b0fc",
   "metadata": {},
   "source": [
    "We'll be using free data via gapminder.org [repository](https://github.com/open-numbers/ddf--gapminder--systema_globalis), CC-BY LICENSE for this exercise. \n",
    "\n",
    "Let's load the data from its storage on github: two tables, with information about world's countries:"
   ]
  },
  {
   "cell_type": "code",
   "execution_count": null,
   "id": "d46c4f75-1bbe-4ddf-af0e-d48a1edd13bf",
   "metadata": {},
   "outputs": [],
   "source": [
    "countries = pd.read_csv(\n",
    "    \"https://raw.githubusercontent.com/open-numbers/ddf--gapminder--systema_globalis\"\n",
    "    \"/master/ddf--entities--geo--country.csv\"\n",
    ")"
   ]
  },
  {
   "cell_type": "code",
   "execution_count": null,
   "id": "0307d922-1b80-46be-8fe3-cbfe34986072",
   "metadata": {},
   "outputs": [],
   "source": [
    "population = pd.read_csv(\n",
    "    \"https://raw.githubusercontent.com/open-numbers/ddf--gapminder--systema_globalis\"\n",
    "    \"/master/countries-etc-datapoints/ddf--datapoints--population_total--by--geo--time.csv\"    \n",
    ")"
   ]
  },
  {
   "cell_type": "markdown",
   "id": "c44b6f00-a9d0-4c79-bbb2-0ca922454e0a",
   "metadata": {},
   "source": [
    "## 1. Adding a column"
   ]
  },
  {
   "cell_type": "markdown",
   "id": "ec30f23b-d346-451f-b2b3-031af14d5ec2",
   "metadata": {},
   "source": [
    "Let's convert long population table to wide by country"
   ]
  },
  {
   "cell_type": "code",
   "execution_count": null,
   "id": "63fde2a2-9c7b-4462-8779-eaf523c31ce1",
   "metadata": {},
   "outputs": [],
   "source": [
    "wide_population = population.pivot(index=\"geo\", columns=\"time\").reset_index()\n",
    "wide_population"
   ]
  },
  {
   "cell_type": "markdown",
   "id": "2c2bd60e-2328-4e2c-9a46-c78e89dae755",
   "metadata": {},
   "source": [
    "Set index in countries to geo codes"
   ]
  },
  {
   "cell_type": "code",
   "execution_count": null,
   "id": "ff15846d-a316-4374-a57b-33c3e819fada",
   "metadata": {},
   "outputs": [],
   "source": [
    "countries_by_name = countries.set_index(\"country\")\n",
    "countries_by_name"
   ]
  },
  {
   "cell_type": "markdown",
   "id": "0d305015-ff8d-41b5-8221-8d83240c79ba",
   "metadata": {},
   "source": [
    "Let's add countries' region to the table with population. Notice the `.array` part. It is necessary here to convert `world_4region` from a pandas Series with index to a list without index"
   ]
  },
  {
   "cell_type": "code",
   "execution_count": null,
   "id": "4c048f11-2279-40e5-b8ef-649495ab2902",
   "metadata": {},
   "outputs": [],
   "source": [
    "wide_population[\"region\"] = countries_by_name.loc[wide_population.geo, \"world_4region\"].array\n",
    "wide_population"
   ]
  },
  {
   "cell_type": "code",
   "execution_count": null,
   "id": "af11769f-e4fb-4546-8fc6-4a901e3a397b",
   "metadata": {},
   "outputs": [],
   "source": [
    "countries_by_name.loc[wide_population.geo, \"world_4region\"]"
   ]
  },
  {
   "cell_type": "code",
   "execution_count": null,
   "id": "c7460ef2-9c75-4798-bb51-25e6d32db1d4",
   "metadata": {},
   "outputs": [],
   "source": [
    "countries_by_name.loc[wide_population.geo, \"world_4region\"].array"
   ]
  },
  {
   "cell_type": "markdown",
   "id": "4ed6e78c-e626-4ba6-964b-d8eee25ba45d",
   "metadata": {},
   "source": [
    "Remove composite column names"
   ]
  },
  {
   "cell_type": "code",
   "execution_count": null,
   "id": "1e75c076-302e-4e5d-a0e5-57c24018a5fb",
   "metadata": {},
   "outputs": [],
   "source": [
    "wide_population.columns = [\"geo\"] + wide_population.columns.levels[1][:-1].tolist() + [\"region\"]\n",
    "wide_population"
   ]
  },
  {
   "cell_type": "markdown",
   "id": "bc090255-683c-4d9b-9e9f-fbc15b1d8ae8",
   "metadata": {},
   "source": [
    "## 2. Computations in groups"
   ]
  },
  {
   "cell_type": "markdown",
   "id": "130aa9a4-ab99-4833-acf6-328d71d718c2",
   "metadata": {},
   "source": [
    "Often, we want to perform certain computations separately in groups.\n",
    "\n",
    "For example, for each region, let's compute it's total population.\n",
    "\n",
    "In pandas, this is done using the `groupby` method and then performing operations on it.\n",
    "\n",
    "It works in 3 phases:\n",
    "1. Split the dataframe in groups, based on the `groupby` parameters\n",
    "2. Perform operation for each group separately\n",
    "3. Combine results of the operations into a single result (DataFrame or Series)"
   ]
  },
  {
   "cell_type": "code",
   "execution_count": null,
   "id": "34dd3e7a-1546-4e19-968a-b9e0a781c93e",
   "metadata": {},
   "outputs": [],
   "source": [
    "by_region = wide_population.groupby(\"region\")"
   ]
  },
  {
   "cell_type": "markdown",
   "id": "a47ede87-8744-477c-9e4c-f5874fb9c05b",
   "metadata": {},
   "source": [
    "To inspect the groups from step 1"
   ]
  },
  {
   "cell_type": "code",
   "execution_count": null,
   "id": "77b5a024-c947-4058-88fa-31978fb90ebc",
   "metadata": {},
   "outputs": [],
   "source": [
    "by_region.indices"
   ]
  },
  {
   "cell_type": "code",
   "execution_count": null,
   "id": "282925c0-8a48-4d99-80a4-31d003d2804d",
   "metadata": {},
   "outputs": [],
   "source": [
    "by_region.groups"
   ]
  },
  {
   "cell_type": "markdown",
   "id": "3d3765e4-aa3d-4429-86a4-4d7152ef7991",
   "metadata": {},
   "source": [
    "To perform operations and combine the results, treat `by_region` as a dataframe"
   ]
  },
  {
   "cell_type": "code",
   "execution_count": null,
   "id": "5d486f8c-7d20-48cc-9928-17c1170c95d1",
   "metadata": {},
   "outputs": [],
   "source": [
    "by_region[2000].sum()"
   ]
  },
  {
   "cell_type": "code",
   "execution_count": null,
   "id": "b7252db6-f904-46a0-b080-7cf9b91a32fd",
   "metadata": {},
   "outputs": [],
   "source": [
    "by_region.sum()"
   ]
  },
  {
   "cell_type": "markdown",
   "id": "56a426f8-ecfd-4e99-9b1b-791010823b7c",
   "metadata": {},
   "source": [
    "## 3. Classwork"
   ]
  },
  {
   "cell_type": "markdown",
   "id": "2ee7179c-7a24-445f-a32d-703f2eaf94dc",
   "metadata": {},
   "source": [
    "1. Find countries with the highest standard deviation in population for each decade in the 20th century"
   ]
  }
 ],
 "metadata": {
  "kernelspec": {
   "display_name": "Python 3 (ipykernel)",
   "language": "python",
   "name": "python3"
  },
  "language_info": {
   "codemirror_mode": {
    "name": "ipython",
    "version": 3
   },
   "file_extension": ".py",
   "mimetype": "text/x-python",
   "name": "python",
   "nbconvert_exporter": "python",
   "pygments_lexer": "ipython3",
   "version": "3.9.6"
  }
 },
 "nbformat": 4,
 "nbformat_minor": 5
}
